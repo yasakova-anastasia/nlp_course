{
  "cells": [
    {
      "cell_type": "markdown",
      "metadata": {
        "id": "HmsFABwClrsS"
      },
      "source": [
        "## Seminar and homework (10 points total)\n",
        "\n",
        "Today we shall compose encoder-decoder neural networks and apply them to the task of machine translation.\n",
        "\n",
        "![img](https://esciencegroup.files.wordpress.com/2016/03/seq2seq.jpg)\n",
        "_(img: esciencegroup.files.wordpress.com)_\n",
        "\n",
        "\n",
        "Encoder-decoder architectures are about converting anything to anything, including\n",
        " * Machine translation and spoken dialogue systems\n",
        " * [Image captioning](http://mscoco.org/dataset/#captions-challenge2015) and [image2latex](https://openai.com/requests-for-research/#im2latex) (convolutional encoder, recurrent decoder)\n",
        " * Generating [images by captions](https://arxiv.org/abs/1511.02793) (recurrent encoder, convolutional decoder)\n",
        " * Grapheme2phoneme - convert words to transcripts"
      ]
    },
    {
      "cell_type": "markdown",
      "metadata": {
        "id": "R4N9AD2dlrsU"
      },
      "source": [
        "## Our task: machine translation\n",
        "\n",
        "We gonna try our encoder-decoder models on russian to english machine translation problem. More specifically, we'll translate hotel and hostel descriptions. This task shows the scale of machine translation while not requiring you to train your model for weeks if you don't use GPU.\n",
        "\n",
        "Before we get to the architecture, there's some preprocessing to be done. ~~Go tokenize~~ Alright, this time we've done preprocessing for you. As usual, the data will be tokenized with WordPunctTokenizer.\n",
        "\n",
        "However, there's one more thing to do. Our data lines contain unique rare words. If we operate on a word level, we will have to deal with large vocabulary size. If instead we use character-level models, it would take lots of iterations to process a sequence. This time we're gonna pick something inbetween.\n",
        "\n",
        "One popular approach is called [Byte Pair Encoding](https://github.com/rsennrich/subword-nmt) aka __BPE__. The algorithm starts with a character-level tokenization and then iteratively merges most frequent pairs for N iterations. This results in frequent words being merged into a single token and rare words split into syllables or even characters.\n",
        "\n"
      ]
    },
    {
      "cell_type": "code",
      "execution_count": 68,
      "metadata": {
        "colab": {
          "base_uri": "https://localhost:8080/"
        },
        "id": "CfvojjHQlrsU",
        "outputId": "f4503317-4272-4209-95e4-8a0775eb65ea"
      },
      "outputs": [
        {
          "output_type": "stream",
          "name": "stdout",
          "text": [
            "--2023-10-20 12:37:31--  https://www.dropbox.com/s/yy2zqh34dyhv07i/data.txt?dl=1\n",
            "Resolving www.dropbox.com (www.dropbox.com)... 162.125.1.18, 2620:100:6017:18::a27d:212\n",
            "Connecting to www.dropbox.com (www.dropbox.com)|162.125.1.18|:443... connected.\n",
            "HTTP request sent, awaiting response... 302 Found\n",
            "Location: /s/dl/yy2zqh34dyhv07i/data.txt [following]\n",
            "--2023-10-20 12:37:31--  https://www.dropbox.com/s/dl/yy2zqh34dyhv07i/data.txt\n",
            "Reusing existing connection to www.dropbox.com:443.\n",
            "HTTP request sent, awaiting response... 302 Found\n",
            "Location: https://ucd646bfbcc50deec76fa4c9ac56.dl.dropboxusercontent.com/cd/0/get/CF9zVpG-nM-KfTJcFENTIkWbTSirggIjGOXsRoo9jsfTAKTmsMZtpQHQHLxv_haYwDWFmtnZXRQb1yirEur_7j5fGKTrMrHtPsT0TlAp1OClQJ5CNXlncI6mNJNlN6pzTsU/file?dl=1# [following]\n",
            "--2023-10-20 12:37:31--  https://ucd646bfbcc50deec76fa4c9ac56.dl.dropboxusercontent.com/cd/0/get/CF9zVpG-nM-KfTJcFENTIkWbTSirggIjGOXsRoo9jsfTAKTmsMZtpQHQHLxv_haYwDWFmtnZXRQb1yirEur_7j5fGKTrMrHtPsT0TlAp1OClQJ5CNXlncI6mNJNlN6pzTsU/file?dl=1\n",
            "Resolving ucd646bfbcc50deec76fa4c9ac56.dl.dropboxusercontent.com (ucd646bfbcc50deec76fa4c9ac56.dl.dropboxusercontent.com)... 162.125.2.15, 2620:100:6017:15::a27d:20f\n",
            "Connecting to ucd646bfbcc50deec76fa4c9ac56.dl.dropboxusercontent.com (ucd646bfbcc50deec76fa4c9ac56.dl.dropboxusercontent.com)|162.125.2.15|:443... connected.\n",
            "HTTP request sent, awaiting response... 200 OK\n",
            "Length: 12905335 (12M) [application/binary]\n",
            "Saving to: ‘data.txt’\n",
            "\n",
            "data.txt            100%[===================>]  12.31M  81.8MB/s    in 0.2s    \n",
            "\n",
            "2023-10-20 12:37:32 (81.8 MB/s) - ‘data.txt’ saved [12905335/12905335]\n",
            "\n",
            "--2023-10-20 12:37:32--  https://raw.githubusercontent.com/yandexdataschool/nlp_course/2020/week04_seq2seq/vocab.py\n",
            "Resolving raw.githubusercontent.com (raw.githubusercontent.com)... 185.199.108.133, 185.199.110.133, 185.199.109.133, ...\n",
            "Connecting to raw.githubusercontent.com (raw.githubusercontent.com)|185.199.108.133|:443... connected.\n",
            "HTTP request sent, awaiting response... 200 OK\n",
            "Length: 2879 (2.8K) [text/plain]\n",
            "Saving to: ‘vocab.py’\n",
            "\n",
            "vocab.py            100%[===================>]   2.81K  --.-KB/s    in 0s      \n",
            "\n",
            "2023-10-20 12:37:32 (43.2 MB/s) - ‘vocab.py’ saved [2879/2879]\n",
            "\n"
          ]
        }
      ],
      "source": [
        "!pip3 install torch>=1.3.0\n",
        "!pip3 install subword-nmt &> log\n",
        "!wget https://www.dropbox.com/s/yy2zqh34dyhv07i/data.txt?dl=1 -O data.txt\n",
        "!wget https://raw.githubusercontent.com/yandexdataschool/nlp_course/2020/week04_seq2seq/vocab.py -O vocab.py\n",
        "# thanks to tilda and deephack teams for the data, Dmitry Emelyanenko for the code :)"
      ]
    },
    {
      "cell_type": "code",
      "execution_count": 69,
      "metadata": {
        "colab": {
          "base_uri": "https://localhost:8080/"
        },
        "id": "g9kP0SdxlrsY",
        "outputId": "e841ac92-24ab-421f-87cd-e75233704e1a"
      },
      "outputs": [
        {
          "output_type": "stream",
          "name": "stderr",
          "text": [
            "100%|██████████| 8000/8000 [00:22<00:00, 348.98it/s]\n",
            "100%|██████████| 8000/8000 [00:11<00:00, 715.01it/s]\n"
          ]
        }
      ],
      "source": [
        "from nltk.tokenize import WordPunctTokenizer\n",
        "from subword_nmt.learn_bpe import learn_bpe\n",
        "from subword_nmt.apply_bpe import BPE\n",
        "tokenizer = WordPunctTokenizer()\n",
        "def tokenize(x):\n",
        "    return ' '.join(tokenizer.tokenize(x.lower()))\n",
        "\n",
        "# split and tokenize the data\n",
        "with open('train.en', 'w') as f_src,  open('train.ru', 'w') as f_dst:\n",
        "    for line in open('data.txt'):\n",
        "        src_line, dst_line = line.strip().split('\\t')\n",
        "        f_src.write(tokenize(src_line) + '\\n')\n",
        "        f_dst.write(tokenize(dst_line) + '\\n')\n",
        "\n",
        "# build and apply bpe vocs\n",
        "bpe = {}\n",
        "for lang in ['en', 'ru']:\n",
        "    learn_bpe(open('./train.' + lang), open('bpe_rules.' + lang, 'w'), num_symbols=8000)\n",
        "    bpe[lang] = BPE(open('./bpe_rules.' + lang))\n",
        "\n",
        "    with open('train.bpe.' + lang, 'w') as f_out:\n",
        "        for line in open('train.' + lang):\n",
        "            f_out.write(bpe[lang].process_line(line.strip()) + '\\n')"
      ]
    },
    {
      "cell_type": "markdown",
      "metadata": {
        "id": "0UPW3sV8lrsb"
      },
      "source": [
        "### Building vocabularies\n",
        "\n",
        "We now need to build vocabularies that map strings to token ids and vice versa. We're gonna need these fellas when we feed training data into model or convert output matrices into words."
      ]
    },
    {
      "cell_type": "code",
      "execution_count": 70,
      "metadata": {
        "id": "CmTy_m_olrsb"
      },
      "outputs": [],
      "source": [
        "import numpy as np\n",
        "import matplotlib.pyplot as plt\n",
        "%matplotlib inline"
      ]
    },
    {
      "cell_type": "code",
      "execution_count": 71,
      "metadata": {
        "colab": {
          "base_uri": "https://localhost:8080/"
        },
        "id": "8PskgBSxlrsd",
        "outputId": "97a0a3dd-4ec4-4013-95bc-f14bfa297adc"
      },
      "outputs": [
        {
          "output_type": "stream",
          "name": "stdout",
          "text": [
            "inp: на территории обустроена бесплатная частная парковка .\n",
            "out: free private parking is available on site .\n",
            "\n",
            "inp: кроме того , в 5 минутах ходьбы работают многочисленные бары и рестораны .\n",
            "out: guests can find many bars and restaurants within a 5 - minute walk .\n",
            "\n",
            "inp: отель san mi@@ gu@@ el расположен в центре мор@@ ели@@ и , в 750 метрах от главной площади города и кафедрального собора .\n",
            "out: hotel san miguel is located in central more@@ lia , 750 metres from the city ’ s main square and cathedral .\n",
            "\n"
          ]
        }
      ],
      "source": [
        "data_inp = np.array(open('./train.bpe.ru').read().split('\\n'))\n",
        "data_out = np.array(open('./train.bpe.en').read().split('\\n'))\n",
        "\n",
        "from sklearn.model_selection import train_test_split\n",
        "train_inp, dev_inp, train_out, dev_out = train_test_split(data_inp, data_out, test_size=3000,\n",
        "                                                          random_state=42)\n",
        "for i in range(3):\n",
        "    print('inp:', train_inp[i])\n",
        "    print('out:', train_out[i], end='\\n\\n')"
      ]
    },
    {
      "cell_type": "code",
      "execution_count": 72,
      "metadata": {
        "id": "vipg4O61lrsg"
      },
      "outputs": [],
      "source": [
        "from vocab import Vocab\n",
        "inp_voc = Vocab.from_lines(train_inp)\n",
        "out_voc = Vocab.from_lines(train_out)"
      ]
    },
    {
      "cell_type": "code",
      "execution_count": 73,
      "metadata": {
        "colab": {
          "base_uri": "https://localhost:8080/"
        },
        "id": "cwOoHfuhlrsi",
        "outputId": "c907faaa-ca5a-4267-e37c-6f7c3b91ae9d"
      },
      "outputs": [
        {
          "output_type": "stream",
          "name": "stdout",
          "text": [
            "lines\n",
            "['гостевой дом r .', 'до афин — 20 км .', 'работает боулинг .', 'оборудован балкон .', 'подключен wi - fi .']\n",
            "\n",
            "words to ids (0 = bos, 1 = eos):\n",
            "tensor([[   0, 2688, 2943, 1108,   29,    1,    1,    1],\n",
            "        [   0, 2922, 1834, 8035,   59, 3800,   29,    1],\n",
            "        [   0, 6030, 2083,   29,    1,    1,    1,    1],\n",
            "        [   0, 4927, 1870,   29,    1,    1,    1,    1],\n",
            "        [   0, 5549, 1453,   27,  592,   29,    1,    1]])\n",
            "\n",
            "back to words\n",
            "['гостевой дом r .', 'до афин — 20 км .', 'работает боулинг .', 'оборудован балкон .', 'подключен wi - fi .']\n"
          ]
        }
      ],
      "source": [
        "# Here's how you cast lines into ids and backwards.\n",
        "batch_lines = sorted(train_inp, key=len)[5:10]\n",
        "batch_ids = inp_voc.to_matrix(batch_lines)\n",
        "batch_lines_restored = inp_voc.to_lines(batch_ids)\n",
        "\n",
        "print(\"lines\")\n",
        "print(batch_lines)\n",
        "print(\"\\nwords to ids (0 = bos, 1 = eos):\")\n",
        "print(batch_ids)\n",
        "print(\"\\nback to words\")\n",
        "print(batch_lines_restored)"
      ]
    },
    {
      "cell_type": "markdown",
      "metadata": {
        "id": "gSYu-MkElrsk"
      },
      "source": [
        "Draw source and translation length distributions to estimate the scope of the task."
      ]
    },
    {
      "cell_type": "code",
      "execution_count": 74,
      "metadata": {
        "colab": {
          "base_uri": "https://localhost:8080/",
          "height": 391
        },
        "id": "TLLl9cSNlrsl",
        "outputId": "74f90af7-8671-4cc4-a74b-0d64d1b3dd70"
      },
      "outputs": [
        {
          "output_type": "display_data",
          "data": {
            "text/plain": [
              "<Figure size 800x400 with 2 Axes>"
            ],
            "image/png": "[encoded data removed]"
          },
          "metadata": {}
        }
      ],
      "source": [
        "plt.figure(figsize=[8, 4])\n",
        "plt.subplot(1, 2, 1)\n",
        "plt.title(\"source length\")\n",
        "plt.hist(list(map(len, map(str.split, train_inp))), bins=20);\n",
        "\n",
        "plt.subplot(1, 2, 2)\n",
        "plt.title(\"translation length\")\n",
        "plt.hist(list(map(len, map(str.split, train_out))), bins=20);"
      ]
    },
    {
      "cell_type": "markdown",
      "metadata": {
        "id": "BHWgx34flrsn"
      },
      "source": [
        "### Encoder-decoder model\n",
        "\n",
        "The code below contains a template for a simple encoder-decoder model: single GRU encoder/decoder, no attention or anything. This model is implemented for you as a reference and a baseline for your homework assignment."
      ]
    },
    {
      "cell_type": "code",
      "execution_count": 75,
      "metadata": {
        "id": "pd_rDRm9lrso"
      },
      "outputs": [],
      "source": [
        "import torch\n",
        "import torch.nn as nn\n",
        "import torch.nn.functional as F\n",
        "device = 'cuda' if torch.cuda.is_available() else 'cpu'"
      ]
    },
    {
      "cell_type": "code",
      "execution_count": 76,
      "metadata": {
        "id": "wgfN5-F7lrst"
      },
      "outputs": [],
      "source": [
        "class BasicModel(nn.Module):\n",
        "    def __init__(self, inp_voc, out_voc, emb_size=64, hid_size=128):\n",
        "        \"\"\"\n",
        "        A simple encoder-decoder seq2seq model\n",
        "        \"\"\"\n",
        "        super().__init__() # initialize base class to track sub-layers, parameters, etc.\n",
        "\n",
        "        self.inp_voc, self.out_voc = inp_voc, out_voc\n",
        "        self.hid_size = hid_size\n",
        "\n",
        "        self.emb_inp = nn.Embedding(len(inp_voc), emb_size)\n",
        "        self.emb_out = nn.Embedding(len(out_voc), emb_size)\n",
        "        self.enc0 = nn.GRU(emb_size, hid_size, batch_first=True)\n",
        "\n",
        "        self.dec_start = nn.Linear(hid_size, hid_size)\n",
        "        self.dec0 = nn.GRUCell(emb_size, hid_size)\n",
        "        self.logits = nn.Linear(hid_size, len(out_voc))\n",
        "\n",
        "    def forward(self, inp, out):\n",
        "        \"\"\" Apply model in training mode \"\"\"\n",
        "        initial_state = self.encode(inp)\n",
        "        return self.decode(initial_state, out)\n",
        "\n",
        "\n",
        "    def encode(self, inp, **flags):\n",
        "        \"\"\"\n",
        "        Takes symbolic input sequence, computes initial state\n",
        "        :param inp: matrix of input tokens [batch, time]\n",
        "        :returns: initial decoder state tensors, one or many\n",
        "        \"\"\"\n",
        "        inp_emb = self.emb_inp(inp)\n",
        "        batch_size = inp.shape[0]\n",
        "\n",
        "        enc_seq, [last_state_but_not_really] = self.enc0(inp_emb)\n",
        "        # enc_seq: [batch, time, hid_size], last_state: [batch, hid_size]\n",
        "\n",
        "        # note: last_state is not _actually_ last because of padding, let's find the real last_state\n",
        "        lengths = (inp != self.inp_voc.eos_ix).to(torch.int64).sum(dim=1).clamp_max(inp.shape[1] - 1)\n",
        "        last_state = enc_seq[torch.arange(len(enc_seq)), lengths]\n",
        "        # ^-- shape: [batch_size, hid_size]\n",
        "\n",
        "        dec_start = self.dec_start(last_state)\n",
        "        return [dec_start]\n",
        "\n",
        "    def decode_step(self, prev_state, prev_tokens, **flags):\n",
        "        \"\"\"\n",
        "        Takes previous decoder state and tokens, returns new state and logits for next tokens\n",
        "        :param prev_state: a list of previous decoder state tensors, same as returned by encode(...)\n",
        "        :param prev_tokens: previous output tokens, an int vector of [batch_size]\n",
        "        :return: a list of next decoder state tensors, a tensor of logits [batch, len(out_voc)]\n",
        "        \"\"\"\n",
        "        prev_gru0_state = prev_state[0]\n",
        "\n",
        "        prev_tokens_emb = self.emb_out(prev_tokens)\n",
        "        new_dec_state = [self.dec0(prev_tokens_emb, prev_gru0_state)]\n",
        "        output_logits = self.logits(new_dec_state[0])\n",
        "\n",
        "        return new_dec_state, output_logits\n",
        "\n",
        "    def decode(self, initial_state, out_tokens, **flags):\n",
        "        \"\"\" Iterate over reference tokens (out_tokens) with decode_step \"\"\"\n",
        "        batch_size = out_tokens.shape[0]\n",
        "        state = initial_state\n",
        "\n",
        "        # initial logits: always predict BOS\n",
        "        onehot_bos = F.one_hot(torch.full([batch_size], self.out_voc.bos_ix, dtype=torch.int64),\n",
        "                               num_classes=len(self.out_voc)).to(device=out_tokens.device)\n",
        "        first_logits = torch.log(onehot_bos.to(torch.float32) + 1e-9)\n",
        "\n",
        "        logits_sequence = [first_logits]\n",
        "        for i in range(out_tokens.shape[1] - 1):\n",
        "            state, logits = self.decode_step(state, out_tokens[:, i])\n",
        "            logits_sequence.append(logits)\n",
        "        return torch.stack(logits_sequence, dim=1)\n",
        "\n",
        "    def decode_inference(self, initial_state, max_len=100, **flags):\n",
        "        \"\"\" Generate translations from model (greedy version) \"\"\"\n",
        "        batch_size, device = len(initial_state[0]), initial_state[0].device\n",
        "        state = initial_state\n",
        "        outputs = [torch.full([batch_size], self.out_voc.bos_ix, dtype=torch.int64,\n",
        "                              device=device)]\n",
        "        all_states = [initial_state]\n",
        "\n",
        "        for i in range(max_len):\n",
        "            state, logits = self.decode_step(state, outputs[-1])\n",
        "            outputs.append(logits.argmax(dim=-1))\n",
        "            all_states.append(state)\n",
        "\n",
        "        return torch.stack(outputs, dim=1), all_states\n",
        "\n",
        "    def translate_lines(self, inp_lines, **kwargs):\n",
        "        inp = self.inp_voc.to_matrix(inp_lines).to(device)\n",
        "        initial_state = self.encode(inp)\n",
        "        out_ids, states = self.decode_inference(initial_state, **kwargs)\n",
        "        return self.out_voc.to_lines(out_ids.cpu().numpy()), states\n"
      ]
    },
    {
      "cell_type": "code",
      "execution_count": 77,
      "metadata": {
        "id": "mQWwkBjMEjY7"
      },
      "outputs": [],
      "source": [
        "# debugging area\n",
        "model = BasicModel(inp_voc, out_voc).to(device)\n",
        "\n",
        "dummy_inp_tokens = inp_voc.to_matrix(sorted(train_inp, key=len)[5:10]).to(device)\n",
        "dummy_out_tokens = out_voc.to_matrix(sorted(train_out, key=len)[5:10]).to(device)\n",
        "\n",
        "h0 = model.encode(dummy_inp_tokens)\n",
        "h1, logits1 = model.decode_step(h0, torch.arange(len(dummy_inp_tokens), device=device))\n",
        "\n",
        "assert isinstance(h1, list) and len(h1) == len(h0)\n",
        "assert h1[0].shape == h0[0].shape and not torch.allclose(h1[0], h0[0])\n",
        "assert logits1.shape == (len(dummy_inp_tokens), len(out_voc))\n",
        "\n",
        "logits_seq = model.decode(h0, dummy_out_tokens)\n",
        "assert logits_seq.shape == (dummy_out_tokens.shape[0], dummy_out_tokens.shape[1], len(out_voc))\n",
        "\n",
        "# full forward\n",
        "logits_seq2 = model(dummy_inp_tokens, dummy_out_tokens)\n",
        "assert logits_seq2.shape == logits_seq.shape"
      ]
    },
    {
      "cell_type": "code",
      "execution_count": 78,
      "metadata": {
        "id": "z7OX45alEjY7",
        "outputId": "fab1afda-3ae3-4a44-ae6c-7ce685fba083",
        "colab": {
          "base_uri": "https://localhost:8080/"
        }
      },
      "outputs": [
        {
          "output_type": "stream",
          "name": "stdout",
          "text": [
            "Translations without training:\n",
            "29 allo@@ yk waters sailing nai@@ weather plan@@ di@@ tech@@ rain bathing barbe@@ der ard municipal noi different gue val@@ connection bru@@ lincoln sed jas\n",
            "29 allo@@ yk waters sailing nai@@ weather plan@@ di@@ tech@@ rain bathing barbe@@ der ard municipal noi different gue val@@ connection bru@@ lincoln sed jas\n",
            "29 allo@@ yk waters sailing nai@@ weather plan@@ di@@ tech@@ rain bathing barbe@@ der ard municipal noi different gue val@@ connection bru@@ lincoln sed jas\n"
          ]
        }
      ],
      "source": [
        "dummy_translations, dummy_states = model.translate_lines(train_inp[:3], max_len=25)\n",
        "print(\"Translations without training:\")\n",
        "print('\\n'.join([line for line in dummy_translations]))"
      ]
    },
    {
      "cell_type": "markdown",
      "metadata": {
        "id": "_wuv1-aVlrs0"
      },
      "source": [
        "### Training loss (2 points)\n",
        "\n",
        "Our training objective is almost the same as it was for neural language models:\n",
        "$$ L = {\\frac1{|D|}} \\sum_{X, Y \\in D} \\sum_{y_t \\in Y} - \\log p(y_t \\mid y_1, \\dots, y_{t-1}, X, \\theta) $$\n",
        "\n",
        "where $|D|$ is the __total length of all sequences__, including BOS and first EOS, but excluding PAD."
      ]
    },
    {
      "cell_type": "code",
      "execution_count": 79,
      "metadata": {
        "id": "c8XPV8sWlrs5",
        "scrolled": true
      },
      "outputs": [],
      "source": [
        "\n",
        "def compute_loss(model, inp, out, **flags):\n",
        "    \"\"\"\n",
        "    Compute loss (float32 scalar) as in the formula above\n",
        "    :param inp: input tokens matrix, int32[batch, time]\n",
        "    :param out: reference tokens matrix, int32[batch, time]\n",
        "\n",
        "    In order to pass the tests, your function should\n",
        "    * include loss at first EOS but not the subsequent ones\n",
        "    * divide sum of losses by a sum of input lengths (use voc.compute_mask)\n",
        "    \"\"\"\n",
        "    mask = model.out_voc.compute_mask(out) # [batch_size, out_len]\n",
        "    targets_1hot = F.one_hot(out, len(model.out_voc)).to(torch.float32)\n",
        "\n",
        "    # outputs of the model, [batch_size, out_len, num_tokens]\n",
        "    logits_seq = model(inp, out)\n",
        "\n",
        "    # log-probabilities of all tokens at all steps, [batch_size, out_len, num_tokens]\n",
        "    logprobs_seq = torch.log_softmax(logits_seq, dim=-1)\n",
        "\n",
        "    # log-probabilities of correct outputs, [batch_size, out_len]\n",
        "    logp_out = (logprobs_seq * targets_1hot).sum(dim=-1)\n",
        "    # ^-- this will select the probability of the actual next token.\n",
        "    # Note: you can compute loss more efficiently using using F.cross_entropy\n",
        "\n",
        "    # average cross-entropy over tokens where mask == True\n",
        "    return - logp_out.mean()"
      ]
    },
    {
      "cell_type": "code",
      "execution_count": 80,
      "metadata": {
        "colab": {
          "base_uri": "https://localhost:8080/"
        },
        "id": "ME_LWUeklrs7",
        "outputId": "f3d23405-a4fd-4e07-d9e4-2fca3f18367f"
      },
      "outputs": [
        {
          "output_type": "stream",
          "name": "stdout",
          "text": [
            "Loss: tensor(7.6626, device='cuda:0', grad_fn=<NegBackward0>)\n"
          ]
        }
      ],
      "source": [
        "dummy_loss = compute_loss(model, dummy_inp_tokens, dummy_out_tokens)\n",
        "print(\"Loss:\", dummy_loss)\n",
        "assert np.allclose(dummy_loss.item(), 7.5, rtol=0.1, atol=0.1), \"We're sorry for your loss\"\n",
        "\n",
        "# test autograd\n",
        "dummy_loss.backward()\n",
        "for name, param in model.named_parameters():\n",
        "    assert param.grad is not None and abs(param.grad.max()) != 0, f\"Param {name} received no gradients\""
      ]
    },
    {
      "cell_type": "markdown",
      "metadata": {
        "id": "HpbaBpW7lrs-"
      },
      "source": [
        "### Evaluation: BLEU\n",
        "\n",
        "Machine translation is commonly evaluated with [BLEU](https://en.wikipedia.org/wiki/BLEU) score. This metric simply computes which fraction of predicted n-grams is actually present in the reference translation. It does so for n=1,2,3 and 4 and computes the geometric average with penalty if translation is shorter than reference.\n",
        "\n",
        "While BLEU [has many drawbacks](http://www.cs.jhu.edu/~ccb/publications/re-evaluating-the-role-of-bleu-in-mt-research.pdf), it still remains the most commonly used metric and one of the simplest to compute."
      ]
    },
    {
      "cell_type": "code",
      "execution_count": 81,
      "metadata": {
        "id": "Gb1-PhKIlrs-"
      },
      "outputs": [],
      "source": [
        "from nltk.translate.bleu_score import corpus_bleu\n",
        "def compute_bleu(model, inp_lines, out_lines, bpe_sep='@@ ', **flags):\n",
        "    \"\"\"\n",
        "    Estimates corpora-level BLEU score of model's translations given inp and reference out\n",
        "    Note: if you're serious about reporting your results, use https://pypi.org/project/sacrebleu\n",
        "    \"\"\"\n",
        "    with torch.no_grad():\n",
        "        translations, _ = model.translate_lines(inp_lines, **flags)\n",
        "        translations = [line.replace(bpe_sep, '') for line in translations]\n",
        "        actual = [line.replace(bpe_sep, '') for line in out_lines]\n",
        "        return corpus_bleu(\n",
        "            [[ref.split()] for ref in actual],\n",
        "            [trans.split() for trans in translations],\n",
        "            smoothing_function=lambda precisions, **kw: [p + 1.0 / p.denominator for p in precisions]\n",
        "            ) * 100"
      ]
    },
    {
      "cell_type": "code",
      "execution_count": 82,
      "metadata": {
        "colab": {
          "base_uri": "https://localhost:8080/"
        },
        "id": "gZvfid1RlrtA",
        "outputId": "95ac50ac-b7a8-491a-d89b-95ed2e83c55c"
      },
      "outputs": [
        {
          "output_type": "execute_result",
          "data": {
            "text/plain": [
              "0.00207260941311528"
            ]
          },
          "metadata": {},
          "execution_count": 82
        }
      ],
      "source": [
        "compute_bleu(model, dev_inp, dev_out)"
      ]
    },
    {
      "cell_type": "markdown",
      "metadata": {
        "id": "nQDhGwg4lrtC"
      },
      "source": [
        "### Training loop\n",
        "\n",
        "Training encoder-decoder models isn't that different from any other models: sample batches, compute loss, backprop and update"
      ]
    },
    {
      "cell_type": "code",
      "execution_count": 83,
      "metadata": {
        "id": "yfwIaixHlrtI",
        "scrolled": false
      },
      "outputs": [],
      "source": [
        "from IPython.display import clear_output\n",
        "from tqdm import tqdm, trange\n",
        "metrics = {'train_loss': [], 'dev_bleu': [] }\n",
        "\n",
        "model = BasicModel(inp_voc, out_voc).to(device)\n",
        "opt = torch.optim.Adam(model.parameters(), lr=1e-3)\n",
        "batch_size = 32"
      ]
    },
    {
      "cell_type": "code",
      "execution_count": 84,
      "metadata": {
        "colab": {
          "base_uri": "https://localhost:8080/",
          "height": 426
        },
        "id": "LlDT6eDUlrtL",
        "scrolled": true,
        "outputId": "b3a3c42d-e217-4f87-cce4-25029e50c448"
      },
      "outputs": [
        {
          "output_type": "display_data",
          "data": {
            "text/plain": [
              "<Figure size 1200x400 with 2 Axes>"
            ],
            "image/png": "[encoded data removed]"
          },
          "metadata": {}
        },
        {
          "output_type": "stream",
          "name": "stdout",
          "text": [
            "Mean loss=0.759\n"
          ]
        },
        {
          "output_type": "stream",
          "name": "stderr",
          "text": [
            "100%|██████████| 25000/25000 [19:56<00:00, 20.89it/s]\n"
          ]
        }
      ],
      "source": [
        "for _ in trange(25000):\n",
        "    step = len(metrics['train_loss']) + 1\n",
        "    batch_ix = np.random.randint(len(train_inp), size=batch_size)\n",
        "    batch_inp = inp_voc.to_matrix(train_inp[batch_ix]).to(device)\n",
        "    batch_out = out_voc.to_matrix(train_out[batch_ix]).to(device)\n",
        "\n",
        "    loss_t = compute_loss(model, batch_inp, batch_out)\n",
        "    opt.zero_grad()\n",
        "    loss_t.backward()\n",
        "    opt.step()\n",
        "\n",
        "    metrics['train_loss'].append((step, loss_t.item()))\n",
        "\n",
        "    if step % 100 == 0:\n",
        "        metrics['dev_bleu'].append((step, compute_bleu(model, dev_inp, dev_out)))\n",
        "\n",
        "        clear_output(True)\n",
        "        plt.figure(figsize=(12,4))\n",
        "        for i, (name, history) in enumerate(sorted(metrics.items())):\n",
        "            plt.subplot(1, len(metrics), i + 1)\n",
        "            plt.title(name)\n",
        "            plt.plot(*zip(*history))\n",
        "            plt.grid()\n",
        "        plt.show()\n",
        "        print(\"Mean loss=%.3f\" % np.mean(metrics['train_loss'][-10:], axis=0)[1], flush=True)\n",
        "\n",
        "# Note: it's okay if bleu oscillates up and down as long as it gets better on average over long term (e.g. 5k batches)"
      ]
    },
    {
      "cell_type": "code",
      "execution_count": 85,
      "metadata": {
        "id": "2ahuhKVhlrtP"
      },
      "outputs": [],
      "source": [
        "assert np.mean(metrics['dev_bleu'][-10:], axis=0)[1] > 15, \"We kind of need a higher bleu BLEU from you. Kind of right now.\""
      ]
    },
    {
      "cell_type": "code",
      "execution_count": 86,
      "metadata": {
        "id": "KyaHOpealrtS",
        "colab": {
          "base_uri": "https://localhost:8080/"
        },
        "outputId": "b879be0a-f089-4189-f7a4-43519d13fc0c"
      },
      "outputs": [
        {
          "output_type": "stream",
          "name": "stdout",
          "text": [
            "в распоряжении гостей общая кухня и общая гостиная .\n",
            "guests can use the shared kitchen at the property . guests can prepare their own meals .\n",
            "\n",
            "кроме того , предоставляется прокат велосипедов , услуги трансфера и бесплатная парковка .\n",
            "free public parking is available and guests can use the ski area .\n",
            "\n",
            "расстояние до города ки@@ сси@@ м@@ ми составляет 26 км .\n",
            "the town of hall@@ stat@@ t is 13 km away .\n",
            "\n",
            "апартаменты в пент@@ хаусе с общим открытым бассейном , садом , кондиционером и террасой для загара расположены в 5 минутах ходьбы от пляжа на курорте ка@@ бо - рой .\n",
            "set in a 5 - minute walk from the sandy beach , this apartment features a terrace and a garden with a terrace and a garden .\n",
            "\n",
            "апартаменты mo@@ s@@ co@@ w point - loft red square находятся в москве , в 200 метрах от большого театра .\n",
            "blue plaza is located in lisbon , 4 restaurants , is located in cusco . the famous copacabana is 4 km from the coliseum .\n",
            "\n",
            "в вашем распоряжении собственная ванная комната с душем и полотенцами .\n",
            "featuring a shower , private bathroom also comes with towels .\n",
            "\n"
          ]
        }
      ],
      "source": [
        "for inp_line, trans_line in zip(dev_inp[::500], model.translate_lines(dev_inp[::500])[0]):\n",
        "    print(inp_line)\n",
        "    print(trans_line)\n",
        "    print()"
      ]
    },
    {
      "cell_type": "markdown",
      "metadata": {
        "id": "edk_oVg0lrtW"
      },
      "source": [
        "### Your Attention Required\n",
        "\n",
        "In this section we want you to improve over the basic model by implementing a simple attention mechanism.\n",
        "\n",
        "This is gonna be a two-parter: building the __attention layer__ and using it for an __attentive seq2seq model__."
      ]
    },
    {
      "cell_type": "markdown",
      "metadata": {
        "id": "Qz9aROAIlrtX"
      },
      "source": [
        "### Attention layer (3 points)\n",
        "\n",
        "Here you will have to implement a layer that computes a simple additive attention:\n",
        "\n",
        "Given encoder sequence $ h^e_0, h^e_1, h^e_2, ..., h^e_T$ and a single decoder state $h^d$,\n",
        "\n",
        "* Compute logits with a 2-layer neural network\n",
        "$$a_t = linear_{out}(tanh(linear_{e}(h^e_t) + linear_{d}(h_d)))$$\n",
        "* Get probabilities from logits,\n",
        "$$ p_t = {{e ^ {a_t}} \\over { \\sum_\\tau e^{a_\\tau} }} $$\n",
        "\n",
        "* Add up encoder states with probabilities to get __attention response__\n",
        "$$ attn = \\sum_t p_t \\cdot h^e_t $$\n",
        "\n",
        "You can learn more about attention layers in the lecture slides or [from this post](https://distill.pub/2016/augmented-rnns/)."
      ]
    },
    {
      "cell_type": "code",
      "execution_count": 87,
      "metadata": {
        "id": "tJLtBvKQEjY9"
      },
      "outputs": [],
      "source": [
        "class AttentionLayer(nn.Module):\n",
        "    def __init__(self, name, enc_size, dec_size, hid_size, activ=torch.tanh):\n",
        "        \"\"\" A layer that computes additive attention response and weights \"\"\"\n",
        "        super().__init__()\n",
        "        self.name = name\n",
        "        self.enc_size = enc_size # num units in encoder state\n",
        "        self.dec_size = dec_size # num units in decoder state\n",
        "        self.hid_size = hid_size # attention layer hidden units\n",
        "        self.activ = activ       # attention layer hidden nonlinearity\n",
        "\n",
        "        # create trainable paramteres like this:\n",
        "        # self.<PARAMETER_NAME> = nn.Parameter(<INITIAL_VALUES>, requires_grad=True)\n",
        "        # <...>  # you will need a couple of these\n",
        "        self.lin1 = nn.Linear(enc_size, hid_size)\n",
        "        self.lin2 = nn.Linear(dec_size, hid_size)\n",
        "        self.lin3 = nn.Linear(hid_size, 1)\n",
        "\n",
        "\n",
        "    def forward(self, enc, dec, inp_mask):\n",
        "        \"\"\"\n",
        "        Computes attention response and weights\n",
        "        :param enc: encoder activation sequence, float32[batch_size, ninp, enc_size]\n",
        "        :param dec: single decoder state used as \"query\", float32[batch_size, dec_size]\n",
        "        :param inp_mask: mask on enc activatons (0 after first eos), float32 [batch_size, ninp]\n",
        "        :returns: attn[batch_size, enc_size], probs[batch_size, ninp]\n",
        "            - attn - attention response vector (weighted sum of enc)\n",
        "            - probs - attention weights after softmax\n",
        "        \"\"\"\n",
        "        # Compute logits\n",
        "        batch_size, ninp, enc_size = enc.shape\n",
        "        logits_enc = self.lin1(enc)\n",
        "        logits_dec = self.lin2(dec)\n",
        "        logits_dec = logits_dec.reshape(-1, 1, self.hid_size)\n",
        "        logits = self.activ(logits_enc + logits_dec)\n",
        "        logits = self.lin3(logits)\n",
        "\n",
        "        # Apply mask - if mask is 0, logits should be -inf or -1e9\n",
        "        # You may need torch.where\n",
        "        logits[torch.where(inp_mask == False)] = -1e9\n",
        "\n",
        "        # Compute attention probabilities (softmax)\n",
        "        logits = logits.reshape(batch_size, ninp)\n",
        "        probs = torch.softmax(logits, dim=-1)\n",
        "\n",
        "        # Compute attention response using enc and probs\n",
        "        probs = probs.reshape(batch_size, ninp, 1)\n",
        "        attn = (probs * enc).sum(axis=1)\n",
        "\n",
        "        return attn, probs"
      ]
    },
    {
      "cell_type": "markdown",
      "metadata": {
        "id": "IalfpdAelrtb"
      },
      "source": [
        "### Seq2seq model with attention (3 points)\n",
        "\n",
        "You can now use the attention layer to build a network. The simplest way to implement attention is to use it in decoder phase:\n",
        "![img](https://i.imgur.com/6fKHlHb.png)\n",
        "_image from distill.pub [article](https://distill.pub/2016/augmented-rnns/)_\n",
        "\n",
        "On every step, use __previous__ decoder state to obtain attention response. Then feed concat this response to the inputs of next attention layer.\n",
        "\n",
        "The key implementation detail here is __model state__. Put simply, you can add any tensor into the list of `encode` outputs. You will then have access to them at each `decode` step. This may include:\n",
        "* Last RNN hidden states (as in basic model)\n",
        "* The whole sequence of encoder outputs (to attend to) and mask\n",
        "* Attention probabilities (to visualize)\n",
        "\n",
        "_There are, of course, alternative ways to wire attention into your network and different kinds of attention. Take a look at [this](https://arxiv.org/abs/1609.08144), [this](https://arxiv.org/abs/1706.03762) and [this](https://arxiv.org/abs/1808.03867) for ideas. And for image captioning/im2latex there's [visual attention](https://arxiv.org/abs/1502.03044)_"
      ]
    },
    {
      "cell_type": "code",
      "execution_count": 88,
      "metadata": {
        "id": "NCKPB5JmcE6j"
      },
      "outputs": [],
      "source": [
        "class AttentiveModel(BasicModel):\n",
        "    def __init__(self, name, inp_voc, out_voc,\n",
        "                 emb_size=256, hid_size=256, attn_size=256):\n",
        "        \"\"\" Translation model that uses attention. See instructions above. \"\"\"\n",
        "        super().__init__(inp_voc, out_voc, emb_size, hid_size)  # initialize base class to track sub-layers, trainable variables, etc.\n",
        "        self.inp_voc, self.out_voc = inp_voc, out_voc\n",
        "        self.hid_size = hid_size\n",
        "\n",
        "        self.dec0 = nn.GRUCell(emb_size + hid_size, hid_size)\n",
        "        self.attn = AttentionLayer(name, hid_size, hid_size, attn_size)\n",
        "\n",
        "    def encode(self, inp, **flags):\n",
        "        \"\"\"\n",
        "        Takes symbolic input sequence, computes initial state\n",
        "        :param inp: matrix of input tokens [batch, time]\n",
        "        :return: a list of initial decoder state tensors\n",
        "        \"\"\"\n",
        "\n",
        "        # encode input sequence, create initial decoder states\n",
        "        inp_emb = self.emb_inp(inp)\n",
        "\n",
        "        enc_seq, [last_state_but_not_really] = self.enc0(inp_emb)\n",
        "\n",
        "        [dec_start] = super().encode(inp, **flags)\n",
        "\n",
        "        enc_mask = self.out_voc.compute_mask(inp)\n",
        "\n",
        "        # apply attention layer from initial decoder hidden state\n",
        "        first_attn_probas = self.attn(enc_seq, dec_start, enc_mask)[1]\n",
        "\n",
        "        # Build first state: include\n",
        "        # * initial states for decoder recurrent layers\n",
        "        # * encoder sequence and encoder attn mask (for attention)\n",
        "        # * make sure that last state item is attention probabilities tensor\n",
        "\n",
        "        first_state = [dec_start, enc_seq, enc_mask, first_attn_probas]\n",
        "        return first_state\n",
        "\n",
        "    def decode_step(self, prev_state, prev_tokens, **flags):\n",
        "        \"\"\"\n",
        "        Takes previous decoder state and tokens, returns new state and logits for next tokens\n",
        "        :param prev_state: a list of previous decoder state tensors\n",
        "        :param prev_tokens: previous output tokens, an int vector of [batch_size]\n",
        "        :return: a list of next decoder state tensors, a tensor of logits [batch, n_tokens]\n",
        "        \"\"\"\n",
        "\n",
        "        prev_gru0_state, enc_seq, enc_mask, _ = prev_state\n",
        "        attn, attn_prob = self.attn(enc_seq, prev_gru0_state, enc_mask)\n",
        "\n",
        "        prev_tokens_emb = self.emb_out(prev_tokens)\n",
        "        prev_tokens_emb = torch.cat([attn, prev_tokens_emb], dim=-1)\n",
        "        new_dec_state = [self.dec0(prev_tokens_emb, prev_gru0_state), enc_seq, enc_mask, attn_prob]\n",
        "        output_logits = self.logits(new_dec_state[0])\n",
        "\n",
        "        return [new_dec_state, output_logits]\n"
      ]
    },
    {
      "cell_type": "markdown",
      "metadata": {
        "id": "ryZCOTEslrtf"
      },
      "source": [
        "### Training attentive model\n",
        "\n",
        "Please reuse the infrastructure you've built for the regular model. I hope you didn't hard-code anything :)"
      ]
    },
    {
      "cell_type": "code",
      "execution_count": 89,
      "metadata": {
        "id": "-YMHPgZxcFaQ"
      },
      "outputs": [],
      "source": [
        "# <YOUR CODE: create AttentiveModel and training utilities>\n",
        "model = AttentiveModel(\"Attn\", inp_voc, out_voc).to(device)\n",
        "opt = torch.optim.Adam(model.parameters(), lr=1e-3)\n",
        "batch_size = 64"
      ]
    },
    {
      "cell_type": "code",
      "execution_count": 91,
      "metadata": {
        "id": "tlWLS7ObEjY-",
        "colab": {
          "base_uri": "https://localhost:8080/",
          "height": 426
        },
        "outputId": "98d7513f-f596-4464-b7bf-dad90f0616ae"
      },
      "outputs": [
        {
          "output_type": "display_data",
          "data": {
            "text/plain": [
              "<Figure size 1200x400 with 2 Axes>"
            ],
            "image/png": "[encoded data removed]"
          },
          "metadata": {}
        },
        {
          "output_type": "stream",
          "name": "stdout",
          "text": [
            "Mean loss=0.149\n"
          ]
        },
        {
          "output_type": "stream",
          "name": "stderr",
          "text": [
            "100%|██████████| 25000/25000 [1:19:46<00:00,  5.22it/s]\n"
          ]
        }
      ],
      "source": [
        "# <YOUR CODE: training loop>\n",
        "for _ in trange(25000):\n",
        "    step = len(metrics['train_loss']) + 1\n",
        "    batch_ix = np.random.randint(len(train_inp), size=batch_size)\n",
        "    batch_inp = inp_voc.to_matrix(train_inp[batch_ix]).to(device)\n",
        "    batch_out = out_voc.to_matrix(train_out[batch_ix]).to(device)\n",
        "\n",
        "    loss_t = compute_loss(model, batch_inp, batch_out)\n",
        "    opt.zero_grad()\n",
        "    loss_t.backward()\n",
        "    opt.step()\n",
        "\n",
        "    metrics['train_loss'].append((step, loss_t.item()))\n",
        "\n",
        "    if step % 100 == 0:\n",
        "        metrics['dev_bleu'].append((step, compute_bleu(model, dev_inp, dev_out)))\n",
        "\n",
        "        clear_output(True)\n",
        "        plt.figure(figsize=(12,4))\n",
        "        for i, (name, history) in enumerate(sorted(metrics.items())):\n",
        "            plt.subplot(1, len(metrics), i + 1)\n",
        "            plt.title(name)\n",
        "            plt.plot(*zip(*history))\n",
        "            plt.grid()\n",
        "        plt.show()\n",
        "        print(\"Mean loss=%.3f\" % np.mean(metrics['train_loss'][-10:], axis=0)[1], flush=True)"
      ]
    },
    {
      "cell_type": "code",
      "source": [
        "print(\"BLEU: \", compute_bleu(model, dev_inp, dev_out))"
      ],
      "metadata": {
        "colab": {
          "base_uri": "https://localhost:8080/"
        },
        "id": "biTaN_1ECPvP",
        "outputId": "823fd9d3-5fee-4795-ebb8-8c95567a23f6"
      },
      "execution_count": 92,
      "outputs": [
        {
          "output_type": "stream",
          "name": "stdout",
          "text": [
            "BLEU:  23.50191396545491\n"
          ]
        }
      ]
    },
    {
      "cell_type": "markdown",
      "metadata": {
        "id": "CTayaMpNEjY_"
      },
      "source": [
        "### Visualizing model attention (2 points)\n",
        "\n",
        "After training the attentive translation model, you can check it's sanity by visualizing its attention weights.\n",
        "\n",
        "We provided you with a function that draws attention maps using [`Bokeh`](https://bokeh.pydata.org/en/latest/index.html). Once you managed to produce something better than random noise, please save at least 3 attention maps and __submit them to anytask__ alongside this notebook to get the max grade. Saving bokeh figures as __cell outputs is not enough!__ (TAs can't see saved bokeh figures in anytask). You can save bokeh images as screenshots or using this button:\n",
        "\n",
        "![bokeh_panel](https://github.com/yandexdataschool/nlp_course/raw/2019/resources/bokeh_panel.png)\n",
        "\n",
        "__Note:__ you're not locked into using bokeh. If you prefer a different visualization method, feel free to use that instead of bokeh."
      ]
    },
    {
      "cell_type": "code",
      "source": [
        "!pip install selenium"
      ],
      "metadata": {
        "colab": {
          "base_uri": "https://localhost:8080/"
        },
        "id": "BtEBdkZEhfSZ",
        "outputId": "d7d4cd08-e875-4a7d-9249-b84ba4ba161a"
      },
      "execution_count": 112,
      "outputs": [
        {
          "output_type": "stream",
          "name": "stdout",
          "text": [
            "Collecting selenium\n",
            "  Downloading selenium-4.14.0-py3-none-any.whl (9.9 MB)\n",
            "\u001b[2K     \u001b[90m━━━━━━━━━━━━━━━━━━━━━━━━━━━━━━━━━━━━━━━━\u001b[0m \u001b[32m9.9/9.9 MB\u001b[0m \u001b[31m24.1 MB/s\u001b[0m eta \u001b[36m0:00:00\u001b[0m\n",
            "\u001b[?25hRequirement already satisfied: urllib3[socks]<3,>=1.26 in /usr/local/lib/python3.10/dist-packages (from selenium) (2.0.7)\n",
            "Collecting trio~=0.17 (from selenium)\n",
            "  Downloading trio-0.22.2-py3-none-any.whl (400 kB)\n",
            "\u001b[2K     \u001b[90m━━━━━━━━━━━━━━━━━━━━━━━━━━━━━━━━━━━━━━━━\u001b[0m \u001b[32m400.2/400.2 kB\u001b[0m \u001b[31m42.1 MB/s\u001b[0m eta \u001b[36m0:00:00\u001b[0m\n",
            "\u001b[?25hCollecting trio-websocket~=0.9 (from selenium)\n",
            "  Downloading trio_websocket-0.11.1-py3-none-any.whl (17 kB)\n",
            "Requirement already satisfied: certifi>=2021.10.8 in /usr/local/lib/python3.10/dist-packages (from selenium) (2023.7.22)\n",
            "Requirement already satisfied: attrs>=20.1.0 in /usr/local/lib/python3.10/dist-packages (from trio~=0.17->selenium) (23.1.0)\n",
            "Requirement already satisfied: sortedcontainers in /usr/local/lib/python3.10/dist-packages (from trio~=0.17->selenium) (2.4.0)\n",
            "Requirement already satisfied: idna in /usr/local/lib/python3.10/dist-packages (from trio~=0.17->selenium) (3.4)\n",
            "Collecting outcome (from trio~=0.17->selenium)\n",
            "  Downloading outcome-1.3.0-py2.py3-none-any.whl (10 kB)\n",
            "Requirement already satisfied: sniffio in /usr/local/lib/python3.10/dist-packages (from trio~=0.17->selenium) (1.3.0)\n",
            "Requirement already satisfied: exceptiongroup>=1.0.0rc9 in /usr/local/lib/python3.10/dist-packages (from trio~=0.17->selenium) (1.1.3)\n",
            "Collecting wsproto>=0.14 (from trio-websocket~=0.9->selenium)\n",
            "  Downloading wsproto-1.2.0-py3-none-any.whl (24 kB)\n",
            "Requirement already satisfied: pysocks!=1.5.7,<2.0,>=1.5.6 in /usr/local/lib/python3.10/dist-packages (from urllib3[socks]<3,>=1.26->selenium) (1.7.1)\n",
            "Collecting h11<1,>=0.9.0 (from wsproto>=0.14->trio-websocket~=0.9->selenium)\n",
            "  Downloading h11-0.14.0-py3-none-any.whl (58 kB)\n",
            "\u001b[2K     \u001b[90m━━━━━━━━━━━━━━━━━━━━━━━━━━━━━━━━━━━━━━━━\u001b[0m \u001b[32m58.3/58.3 kB\u001b[0m \u001b[31m8.8 MB/s\u001b[0m eta \u001b[36m0:00:00\u001b[0m\n",
            "\u001b[?25hInstalling collected packages: outcome, h11, wsproto, trio, trio-websocket, selenium\n",
            "Successfully installed h11-0.14.0 outcome-1.3.0 selenium-4.14.0 trio-0.22.2 trio-websocket-0.11.1 wsproto-1.2.0\n"
          ]
        }
      ]
    },
    {
      "cell_type": "code",
      "execution_count": 116,
      "metadata": {
        "id": "9Kz5KSPdEjY_"
      },
      "outputs": [],
      "source": [
        "import bokeh.plotting as pl\n",
        "import bokeh.models as bm\n",
        "from bokeh.io import output_notebook, show\n",
        "output_notebook()\n",
        "\n",
        "def draw_attention(inp_line, translation, probs):\n",
        "    \"\"\" An intentionally ambiguous function to visualize attention weights \"\"\"\n",
        "    inp_tokens = inp_voc.tokenize(inp_line)\n",
        "    trans_tokens = out_voc.tokenize(translation)\n",
        "    probs = probs[:len(trans_tokens), :len(inp_tokens)]\n",
        "\n",
        "    fig = pl.figure(x_range=(0, len(inp_tokens)), y_range=(0, len(trans_tokens)),\n",
        "                    x_axis_type=None, y_axis_type=None, tools=[])\n",
        "    fig.image([probs[::-1]], 0, 0, len(inp_tokens), len(trans_tokens))\n",
        "\n",
        "    fig.add_layout(bm.LinearAxis(axis_label='source tokens'), 'above')\n",
        "    fig.xaxis.ticker = np.arange(len(inp_tokens)) + 0.5\n",
        "    fig.xaxis.major_label_overrides = dict(zip(np.arange(len(inp_tokens)) + 0.5, inp_tokens))\n",
        "    fig.xaxis.major_label_orientation = 45\n",
        "\n",
        "    fig.add_layout(bm.LinearAxis(axis_label='translation tokens'), 'left')\n",
        "    fig.yaxis.ticker = np.arange(len(trans_tokens)) + 0.5\n",
        "    fig.yaxis.major_label_overrides = dict(zip(np.arange(len(trans_tokens)) + 0.5, trans_tokens[::-1]))\n",
        "\n",
        "    show(fig)"
      ]
    },
    {
      "cell_type": "code",
      "execution_count": 117,
      "metadata": {
        "id": "ZcBp8UspEjY_"
      },
      "outputs": [],
      "source": [
        "inp = dev_inp[::500]\n",
        "\n",
        "trans, states = model.translate_lines(inp)\n",
        "\n",
        "# select attention probs from model state (you may need to change this for your custom model)\n",
        "# attention_probs below must have shape [batch_size, translation_length, input_length], extracted from states\n",
        "# e.g. if attention probs are at the end of each state, use np.stack([state[-1] for state in states], axis=1)\n",
        "attention_probs = np.stack([state[-1].detach().cpu().numpy() for state in states], axis=1)"
      ]
    },
    {
      "cell_type": "code",
      "execution_count": 118,
      "metadata": {
        "id": "WSxyysD_EjZD",
        "colab": {
          "base_uri": "https://localhost:8080/",
          "height": 17
        },
        "outputId": "e8d5bda0-192f-49fd-cc84-b20005966264"
      },
      "outputs": [
        {
          "output_type": "display_data",
          "data": {
            "application/javascript": [
              "(function(root) {\n",
              "  function now() {\n",
              "    return new Date();\n",
              "  }\n",
              "\n",
              "  const force = true;\n",
              "\n",
              "  if (typeof root._bokeh_onload_callbacks === \"undefined\" || force === true) {\n",
              "    root._bokeh_onload_callbacks = [];\n",
              "    root._bokeh_is_loading = undefined;\n",
              "  }\n",
              "\n",
              "const JS_MIME_TYPE = 'application/javascript';\n",
              "  const HTML_MIME_TYPE = 'text/html';\n",
              "  const EXEC_MIME_TYPE = 'application/vnd.bokehjs_exec.v0+json';\n",
              "  const CLASS_NAME = 'output_bokeh rendered_html';\n",
              "\n",
              "  /**\n",
              "   * Render data to the DOM node\n",
              "   */\n",
              "  function render(props, node) {\n",
              "    const script = document.createElement(\"script\");\n",
              "    node.appendChild(script);\n",
              "  }\n",
              "\n",
              "  /**\n",
              "   * Handle when an output is cleared or removed\n",
              "   */\n",
              "  function handleClearOutput(event, handle) {\n",
              "    const cell = handle.cell;\n",
              "\n",
              "    const id = cell.output_area._bokeh_element_id;\n",
              "    const server_id = cell.output_area._bokeh_server_id;\n",
              "    // Clean up Bokeh references\n",
              "    if (id != null && id in Bokeh.index) {\n",
              "      Bokeh.index[id].model.document.clear();\n",
              "      delete Bokeh.index[id];\n",
              "    }\n",
              "\n",
              "    if (server_id !== undefined) {\n",
              "      // Clean up Bokeh references\n",
              "      const cmd_clean = \"from bokeh.io.state import curstate; print(curstate().uuid_to_server['\" + server_id + \"'].get_sessions()[0].document.roots[0]._id)\";\n",
              "      cell.notebook.kernel.execute(cmd_clean, {\n",
              "        iopub: {\n",
              "          output: function(msg) {\n",
              "            const id = msg.content.text.trim();\n",
              "            if (id in Bokeh.index) {\n",
              "              Bokeh.index[id].model.document.clear();\n",
              "              delete Bokeh.index[id];\n",
              "            }\n",
              "          }\n",
              "        }\n",
              "      });\n",
              "      // Destroy server and session\n",
              "      const cmd_destroy = \"import bokeh.io.notebook as ion; ion.destroy_server('\" + server_id + \"')\";\n",
              "      cell.notebook.kernel.execute(cmd_destroy);\n",
              "    }\n",
              "  }\n",
              "\n",
              "  /**\n",
              "   * Handle when a new output is added\n",
              "   */\n",
              "  function handleAddOutput(event, handle) {\n",
              "    const output_area = handle.output_area;\n",
              "    const output = handle.output;\n",
              "\n",
              "    // limit handleAddOutput to display_data with EXEC_MIME_TYPE content only\n",
              "    if ((output.output_type != \"display_data\") || (!Object.prototype.hasOwnProperty.call(output.data, EXEC_MIME_TYPE))) {\n",
              "      return\n",
              "    }\n",
              "\n",
              "    const toinsert = output_area.element.find(\".\" + CLASS_NAME.split(' ')[0]);\n",
              "\n",
              "    if (output.metadata[EXEC_MIME_TYPE][\"id\"] !== undefined) {\n",
              "      toinsert[toinsert.length - 1].firstChild.textContent = output.data[JS_MIME_TYPE];\n",
              "      // store reference to embed id on output_area\n",
              "      output_area._bokeh_element_id = output.metadata[EXEC_MIME_TYPE][\"id\"];\n",
              "    }\n",
              "    if (output.metadata[EXEC_MIME_TYPE][\"server_id\"] !== undefined) {\n",
              "      const bk_div = document.createElement(\"div\");\n",
              "      bk_div.innerHTML = output.data[HTML_MIME_TYPE];\n",
              "      const script_attrs = bk_div.children[0].attributes;\n",
              "      for (let i = 0; i < script_attrs.length; i++) {\n",
              "        toinsert[toinsert.length - 1].firstChild.setAttribute(script_attrs[i].name, script_attrs[i].value);\n",
              "        toinsert[toinsert.length - 1].firstChild.textContent = bk_div.children[0].textContent\n",
              "      }\n",
              "      // store reference to server id on output_area\n",
              "      output_area._bokeh_server_id = output.metadata[EXEC_MIME_TYPE][\"server_id\"];\n",
              "    }\n",
              "  }\n",
              "\n",
              "  function register_renderer(events, OutputArea) {\n",
              "\n",
              "    function append_mime(data, metadata, element) {\n",
              "      // create a DOM node to render to\n",
              "      const toinsert = this.create_output_subarea(\n",
              "        metadata,\n",
              "        CLASS_NAME,\n",
              "        EXEC_MIME_TYPE\n",
              "      );\n",
              "      this.keyboard_manager.register_events(toinsert);\n",
              "      // Render to node\n",
              "      const props = {data: data, metadata: metadata[EXEC_MIME_TYPE]};\n",
              "      render(props, toinsert[toinsert.length - 1]);\n",
              "      element.append(toinsert);\n",
              "      return toinsert\n",
              "    }\n",
              "\n",
              "    /* Handle when an output is cleared or removed */\n",
              "    events.on('clear_output.CodeCell', handleClearOutput);\n",
              "    events.on('delete.Cell', handleClearOutput);\n",
              "\n",
              "    /* Handle when a new output is added */\n",
              "    events.on('output_added.OutputArea', handleAddOutput);\n",
              "\n",
              "    /**\n",
              "     * Register the mime type and append_mime function with output_area\n",
              "     */\n",
              "    OutputArea.prototype.register_mime_type(EXEC_MIME_TYPE, append_mime, {\n",
              "      /* Is output safe? */\n",
              "      safe: true,\n",
              "      /* Index of renderer in `output_area.display_order` */\n",
              "      index: 0\n",
              "    });\n",
              "  }\n",
              "\n",
              "  // register the mime type if in Jupyter Notebook environment and previously unregistered\n",
              "  if (root.Jupyter !== undefined) {\n",
              "    const events = require('base/js/events');\n",
              "    const OutputArea = require('notebook/js/outputarea').OutputArea;\n",
              "\n",
              "    if (OutputArea.prototype.mime_types().indexOf(EXEC_MIME_TYPE) == -1) {\n",
              "      register_renderer(events, OutputArea);\n",
              "    }\n",
              "  }\n",
              "  if (typeof (root._bokeh_timeout) === \"undefined\" || force === true) {\n",
              "    root._bokeh_timeout = Date.now() + 5000;\n",
              "    root._bokeh_failed_load = false;\n",
              "  }\n",
              "\n",
              "  const NB_LOAD_WARNING = {'data': {'text/html':\n",
              "     \"<div style='background-color: #fdd'>\\n\"+\n",
              "     \"<p>\\n\"+\n",
              "     \"BokehJS does not appear to have successfully loaded. If loading BokehJS from CDN, this \\n\"+\n",
              "     \"may be due to a slow or bad network connection. Possible fixes:\\n\"+\n",
              "     \"</p>\\n\"+\n",
              "     \"<ul>\\n\"+\n",
              "     \"<li>re-rerun `output_notebook()` to attempt to load from CDN again, or</li>\\n\"+\n",
              "     \"<li>use INLINE resources instead, as so:</li>\\n\"+\n",
              "     \"</ul>\\n\"+\n",
              "     \"<code>\\n\"+\n",
              "     \"from bokeh.resources import INLINE\\n\"+\n",
              "     \"output_notebook(resources=INLINE)\\n\"+\n",
              "     \"</code>\\n\"+\n",
              "     \"</div>\"}};\n",
              "\n",
              "  function display_loaded() {\n",
              "    const el = document.getElementById(null);\n",
              "    if (el != null) {\n",
              "      el.textContent = \"BokehJS is loading...\";\n",
              "    }\n",
              "    if (root.Bokeh !== undefined) {\n",
              "      if (el != null) {\n",
              "        el.textContent = \"BokehJS \" + root.Bokeh.version + \" successfully loaded.\";\n",
              "      }\n",
              "    } else if (Date.now() < root._bokeh_timeout) {\n",
              "      setTimeout(display_loaded, 100)\n",
              "    }\n",
              "  }\n",
              "\n",
              "  function run_callbacks() {\n",
              "    try {\n",
              "      root._bokeh_onload_callbacks.forEach(function(callback) {\n",
              "        if (callback != null)\n",
              "          callback();\n",
              "      });\n",
              "    } finally {\n",
              "      delete root._bokeh_onload_callbacks\n",
              "    }\n",
              "    console.debug(\"Bokeh: all callbacks have finished\");\n",
              "  }\n",
              "\n",
              "  function load_libs(css_urls, js_urls, callback) {\n",
              "    if (css_urls == null) css_urls = [];\n",
              "    if (js_urls == null) js_urls = [];\n",
              "\n",
              "    root._bokeh_onload_callbacks.push(callback);\n",
              "    if (root._bokeh_is_loading > 0) {\n",
              "      console.debug(\"Bokeh: BokehJS is being loaded, scheduling callback at\", now());\n",
              "      return null;\n",
              "    }\n",
              "    if (js_urls == null || js_urls.length === 0) {\n",
              "      run_callbacks();\n",
              "      return null;\n",
              "    }\n",
              "    console.debug(\"Bokeh: BokehJS not loaded, scheduling load and callback at\", now());\n",
              "    root._bokeh_is_loading = css_urls.length + js_urls.length;\n",
              "\n",
              "    function on_load() {\n",
              "      root._bokeh_is_loading--;\n",
              "      if (root._bokeh_is_loading === 0) {\n",
              "        console.debug(\"Bokeh: all BokehJS libraries/stylesheets loaded\");\n",
              "        run_callbacks()\n",
              "      }\n",
              "    }\n",
              "\n",
              "    function on_error(url) {\n",
              "      console.error(\"failed to load \" + url);\n",
              "    }\n",
              "\n",
              "    for (let i = 0; i < css_urls.length; i++) {\n",
              "      const url = css_urls[i];\n",
              "      const element = document.createElement(\"link\");\n",
              "      element.onload = on_load;\n",
              "      element.onerror = on_error.bind(null, url);\n",
              "      element.rel = \"stylesheet\";\n",
              "      element.type = \"text/css\";\n",
              "      element.href = url;\n",
              "      console.debug(\"Bokeh: injecting link tag for BokehJS stylesheet: \", url);\n",
              "      document.body.appendChild(element);\n",
              "    }\n",
              "\n",
              "    for (let i = 0; i < js_urls.length; i++) {\n",
              "      const url = js_urls[i];\n",
              "      const element = document.createElement('script');\n",
              "      element.onload = on_load;\n",
              "      element.onerror = on_error.bind(null, url);\n",
              "      element.async = false;\n",
              "      element.src = url;\n",
              "      console.debug(\"Bokeh: injecting script tag for BokehJS library: \", url);\n",
              "      document.head.appendChild(element);\n",
              "    }\n",
              "  };\n",
              "\n",
              "  function inject_raw_css(css) {\n",
              "    const element = document.createElement(\"style\");\n",
              "    element.appendChild(document.createTextNode(css));\n",
              "    document.body.appendChild(element);\n",
              "  }\n",
              "\n",
              "  const js_urls = [\"https://cdn.bokeh.org/bokeh/release/bokeh-3.2.2.min.js\", \"https://cdn.bokeh.org/bokeh/release/bokeh-gl-3.2.2.min.js\", \"https://cdn.bokeh.org/bokeh/release/bokeh-widgets-3.2.2.min.js\", \"https://cdn.bokeh.org/bokeh/release/bokeh-tables-3.2.2.min.js\", \"https://cdn.bokeh.org/bokeh/release/bokeh-mathjax-3.2.2.min.js\"];\n",
              "  const css_urls = [];\n",
              "\n",
              "  const inline_js = [    function(Bokeh) {\n",
              "      Bokeh.set_log_level(\"info\");\n",
              "    },\n",
              "function(Bokeh) {\n",
              "    }\n",
              "  ];\n",
              "\n",
              "  function run_inline_js() {\n",
              "    if (root.Bokeh !== undefined || force === true) {\n",
              "          for (let i = 0; i < inline_js.length; i++) {\n",
              "      inline_js[i].call(root, root.Bokeh);\n",
              "    }\n",
              "} else if (Date.now() < root._bokeh_timeout) {\n",
              "      setTimeout(run_inline_js, 100);\n",
              "    } else if (!root._bokeh_failed_load) {\n",
              "      console.log(\"Bokeh: BokehJS failed to load within specified timeout.\");\n",
              "      root._bokeh_failed_load = true;\n",
              "    } else if (force !== true) {\n",
              "      const cell = $(document.getElementById(null)).parents('.cell').data().cell;\n",
              "      cell.output_area.append_execute_result(NB_LOAD_WARNING)\n",
              "    }\n",
              "  }\n",
              "\n",
              "  if (root._bokeh_is_loading === 0) {\n",
              "    console.debug(\"Bokeh: BokehJS loaded, going straight to plotting\");\n",
              "    run_inline_js();\n",
              "  } else {\n",
              "    load_libs(css_urls, js_urls, function() {\n",
              "      console.debug(\"Bokeh: BokehJS plotting callback run at\", now());\n",
              "      run_inline_js();\n",
              "    });\n",
              "  }\n",
              "}(window));"
            ],
            "application/vnd.bokehjs_load.v0+json": "(function(root) {\n  function now() {\n    return new Date();\n  }\n\n  const force = true;\n\n  if (typeof root._bokeh_onload_callbacks === \"undefined\" || force === true) {\n    root._bokeh_onload_callbacks = [];\n    root._bokeh_is_loading = undefined;\n  }\n\n\n  if (typeof (root._bokeh_timeout) === \"undefined\" || force === true) {\n    root._bokeh_timeout = Date.now() + 5000;\n    root._bokeh_failed_load = false;\n  }\n\n  const NB_LOAD_WARNING = {'data': {'text/html':\n     \"<div style='background-color: #fdd'>\\n\"+\n     \"<p>\\n\"+\n     \"BokehJS does not appear to have successfully loaded. If loading BokehJS from CDN, this \\n\"+\n     \"may be due to a slow or bad network connection. Possible fixes:\\n\"+\n     \"</p>\\n\"+\n     \"<ul>\\n\"+\n     \"<li>re-rerun `output_notebook()` to attempt to load from CDN again, or</li>\\n\"+\n     \"<li>use INLINE resources instead, as so:</li>\\n\"+\n     \"</ul>\\n\"+\n     \"<code>\\n\"+\n     \"from bokeh.resources import INLINE\\n\"+\n     \"output_notebook(resources=INLINE)\\n\"+\n     \"</code>\\n\"+\n     \"</div>\"}};\n\n  function display_loaded() {\n    const el = document.getElementById(null);\n    if (el != null) {\n      el.textContent = \"BokehJS is loading...\";\n    }\n    if (root.Bokeh !== undefined) {\n      if (el != null) {\n        el.textContent = \"BokehJS \" + root.Bokeh.version + \" successfully loaded.\";\n      }\n    } else if (Date.now() < root._bokeh_timeout) {\n      setTimeout(display_loaded, 100)\n    }\n  }\n\n  function run_callbacks() {\n    try {\n      root._bokeh_onload_callbacks.forEach(function(callback) {\n        if (callback != null)\n          callback();\n      });\n    } finally {\n      delete root._bokeh_onload_callbacks\n    }\n    console.debug(\"Bokeh: all callbacks have finished\");\n  }\n\n  function load_libs(css_urls, js_urls, callback) {\n    if (css_urls == null) css_urls = [];\n    if (js_urls == null) js_urls = [];\n\n    root._bokeh_onload_callbacks.push(callback);\n    if (root._bokeh_is_loading > 0) {\n      console.debug(\"Bokeh: BokehJS is being loaded, scheduling callback at\", now());\n      return null;\n    }\n    if (js_urls == null || js_urls.length === 0) {\n      run_callbacks();\n      return null;\n    }\n    console.debug(\"Bokeh: BokehJS not loaded, scheduling load and callback at\", now());\n    root._bokeh_is_loading = css_urls.length + js_urls.length;\n\n    function on_load() {\n      root._bokeh_is_loading--;\n      if (root._bokeh_is_loading === 0) {\n        console.debug(\"Bokeh: all BokehJS libraries/stylesheets loaded\");\n        run_callbacks()\n      }\n    }\n\n    function on_error(url) {\n      console.error(\"failed to load \" + url);\n    }\n\n    for (let i = 0; i < css_urls.length; i++) {\n      const url = css_urls[i];\n      const element = document.createElement(\"link\");\n      element.onload = on_load;\n      element.onerror = on_error.bind(null, url);\n      element.rel = \"stylesheet\";\n      element.type = \"text/css\";\n      element.href = url;\n      console.debug(\"Bokeh: injecting link tag for BokehJS stylesheet: \", url);\n      document.body.appendChild(element);\n    }\n\n    for (let i = 0; i < js_urls.length; i++) {\n      const url = js_urls[i];\n      const element = document.createElement('script');\n      element.onload = on_load;\n      element.onerror = on_error.bind(null, url);\n      element.async = false;\n      element.src = url;\n      console.debug(\"Bokeh: injecting script tag for BokehJS library: \", url);\n      document.head.appendChild(element);\n    }\n  };\n\n  function inject_raw_css(css) {\n    const element = document.createElement(\"style\");\n    element.appendChild(document.createTextNode(css));\n    document.body.appendChild(element);\n  }\n\n  const js_urls = [\"https://cdn.bokeh.org/bokeh/release/bokeh-3.2.2.min.js\", \"https://cdn.bokeh.org/bokeh/release/bokeh-gl-3.2.2.min.js\", \"https://cdn.bokeh.org/bokeh/release/bokeh-widgets-3.2.2.min.js\", \"https://cdn.bokeh.org/bokeh/release/bokeh-tables-3.2.2.min.js\", \"https://cdn.bokeh.org/bokeh/release/bokeh-mathjax-3.2.2.min.js\"];\n  const css_urls = [];\n\n  const inline_js = [    function(Bokeh) {\n      Bokeh.set_log_level(\"info\");\n    },\nfunction(Bokeh) {\n    }\n  ];\n\n  function run_inline_js() {\n    if (root.Bokeh !== undefined || force === true) {\n          for (let i = 0; i < inline_js.length; i++) {\n      inline_js[i].call(root, root.Bokeh);\n    }\n} else if (Date.now() < root._bokeh_timeout) {\n      setTimeout(run_inline_js, 100);\n    } else if (!root._bokeh_failed_load) {\n      console.log(\"Bokeh: BokehJS failed to load within specified timeout.\");\n      root._bokeh_failed_load = true;\n    } else if (force !== true) {\n      const cell = $(document.getElementById(null)).parents('.cell').data().cell;\n      cell.output_area.append_execute_result(NB_LOAD_WARNING)\n    }\n  }\n\n  if (root._bokeh_is_loading === 0) {\n    console.debug(\"Bokeh: BokehJS loaded, going straight to plotting\");\n    run_inline_js();\n  } else {\n    load_libs(css_urls, js_urls, function() {\n      console.debug(\"Bokeh: BokehJS plotting callback run at\", now());\n      run_inline_js();\n    });\n  }\n}(window));"
          },
          "metadata": {}
        },
        {
          "output_type": "display_data",
          "data": {
            "text/html": [
              "\n",
              "  <div id=\"a5044b98-73a0-4819-8d3c-8722cd53a0dd\" data-root-id=\"p2153\" style=\"display: contents;\"></div>\n"
            ]
          },
          "metadata": {}
        },
        {
          "output_type": "display_data",
          "data": {
            "application/javascript": [
              "(function(root) {\n",
              "  function embed_document(root) {\n",
              "  const docs_json = {\"4e3fe093-e7d6-484d-8a81-c9c4c0175970\":{\"version\":\"3.2.2\",\"title\":\"Bokeh Application\",\"roots\":[{\"type\":\"object\",\"name\":\"Figure\",\"id\":\"p2153\",\"attributes\":{\"x_range\":{\"type\":\"object\",\"name\":\"Range1d\",\"id\":\"p2162\",\"attributes\":{\"end\":11}},\"y_range\":{\"type\":\"object\",\"name\":\"Range1d\",\"id\":\"p2163\",\"attributes\":{\"end\":13}},\"x_scale\":{\"type\":\"object\",\"name\":\"LinearScale\",\"id\":\"p2164\"},\"y_scale\":{\"type\":\"object\",\"name\":\"LinearScale\",\"id\":\"p2165\"},\"title\":{\"type\":\"object\",\"name\":\"Title\",\"id\":\"p2160\"},\"renderers\":[{\"type\":\"object\",\"name\":\"GlyphRenderer\",\"id\":\"p2178\",\"attributes\":{\"data_source\":{\"type\":\"object\",\"name\":\"ColumnDataSource\",\"id\":\"p2166\",\"attributes\":{\"selected\":{\"type\":\"object\",\"name\":\"Selection\",\"id\":\"p2167\",\"attributes\":{\"indices\":[],\"line_indices\":[]}},\"selection_policy\":{\"type\":\"object\",\"name\":\"UnionRenderers\",\"id\":\"p2168\"},\"data\":{\"type\":\"map\",\"entries\":[[\"image\",[{\"type\":\"ndarray\",\"array\":{\"type\":\"bytes\",\"data\":\"pLVvPqe2kj3jQlM9RwORPRncSj2Q3WE88PpDPM3M/jwly/U9RZ4ePqsqQz7G9/I9hf03PdMFBj2ZNLA8aepJPOgzUTzRMPQ7XMKyPAthCj4KsDA+9R/XPuUpnjx2L588fThOO0l2xzsAUfY7ZeCrOysT3DorY8I8oegiPueP5T7c4Jw+fO5yOj31iTk9gmo5ySYTOaku5zrKhqU7v1Q2O4a8pTyZzwQ+/5UdP521ZD4wWgg7z28lOiaclzoSHYE5rZSkOiD+uDrE8M86l5AhPc6U6j71rbo+rIQEPie8tjt4zVM63O8nO15bLzopIDY7WpcPO9RWRz3MxbI+LI1wPiE8mD5+pmI9a6ovO8JogzrNbKU6g6LwOZcKdjyvHvY8A6XHPq1yWj6bgSs+XkICPqxIUz36Wp46kGm5OZRpDDualDo7oS8nPmpyrj4ct48+rFSXPIVEDj0m5Jg9ULSlPelS/jq2a/c5bHwFPETBRDwn4JI+RdDOPo8yBj5R+gM9Dc7APIlFRD20mlQ9gKh5O1ZrNzq/hog8kZ6kPKyxOj6ORL4+/EGMPuWNHD0/yhk9B3TzPBXQzzwLkJc8uJlAO4hCkjwozE09mxeaPhi6Sj7N4RM+vmqlPRANhD1MoJw9XOQ5PXh0yjwBW4081kY8PTiuGD7GhT8+b5K4PmcNdj1Ok08991BHPbqEED0+76k8eHTKPAFbjTzWRjw9OK4YPsaFPz5vkrg+Zw12PU6TTz33UEc9uoQQPT7vqTw=\"},\"shape\":[13,11,1],\"dtype\":\"float32\",\"order\":\"little\"}]]]}}},\"view\":{\"type\":\"object\",\"name\":\"CDSView\",\"id\":\"p2179\",\"attributes\":{\"filter\":{\"type\":\"object\",\"name\":\"AllIndices\",\"id\":\"p2180\"}}},\"glyph\":{\"type\":\"object\",\"name\":\"Image\",\"id\":\"p2169\",\"attributes\":{\"x\":{\"type\":\"value\",\"value\":0},\"y\":{\"type\":\"value\",\"value\":0},\"dw\":{\"type\":\"value\",\"value\":11},\"dh\":{\"type\":\"value\",\"value\":13},\"image\":{\"type\":\"field\",\"field\":\"image\"},\"color_mapper\":{\"type\":\"object\",\"name\":\"LinearColorMapper\",\"id\":\"p2170\",\"attributes\":{\"palette\":[\"#000000\",\"#252525\",\"#525252\",\"#737373\",\"#969696\",\"#bdbdbd\",\"#d9d9d9\",\"#f0f0f0\",\"#ffffff\"]}}}},\"nonselection_glyph\":{\"type\":\"object\",\"name\":\"Image\",\"id\":\"p2172\",\"attributes\":{\"x\":{\"type\":\"value\",\"value\":0},\"y\":{\"type\":\"value\",\"value\":0},\"dw\":{\"type\":\"value\",\"value\":11},\"dh\":{\"type\":\"value\",\"value\":13},\"global_alpha\":{\"type\":\"value\",\"value\":0.1},\"image\":{\"type\":\"field\",\"field\":\"image\"},\"color_mapper\":{\"type\":\"object\",\"name\":\"LinearColorMapper\",\"id\":\"p2173\",\"attributes\":{\"palette\":[\"#000000\",\"#252525\",\"#525252\",\"#737373\",\"#969696\",\"#bdbdbd\",\"#d9d9d9\",\"#f0f0f0\",\"#ffffff\"]}}}},\"muted_glyph\":{\"type\":\"object\",\"name\":\"Image\",\"id\":\"p2175\",\"attributes\":{\"x\":{\"type\":\"value\",\"value\":0},\"y\":{\"type\":\"value\",\"value\":0},\"dw\":{\"type\":\"value\",\"value\":11},\"dh\":{\"type\":\"value\",\"value\":13},\"global_alpha\":{\"type\":\"value\",\"value\":0.2},\"image\":{\"type\":\"field\",\"field\":\"image\"},\"color_mapper\":{\"type\":\"object\",\"name\":\"LinearColorMapper\",\"id\":\"p2176\",\"attributes\":{\"palette\":[\"#000000\",\"#252525\",\"#525252\",\"#737373\",\"#969696\",\"#bdbdbd\",\"#d9d9d9\",\"#f0f0f0\",\"#ffffff\"]}}}}}}],\"toolbar\":{\"type\":\"object\",\"name\":\"Toolbar\",\"id\":\"p2161\"},\"left\":[{\"type\":\"object\",\"name\":\"LinearAxis\",\"id\":\"p2186\",\"attributes\":{\"ticker\":{\"type\":\"object\",\"name\":\"FixedTicker\",\"id\":\"p2190\",\"attributes\":{\"ticks\":{\"type\":\"ndarray\",\"array\":{\"type\":\"bytes\",\"data\":\"AAAAAAAA4D8AAAAAAAD4PwAAAAAAAARAAAAAAAAADEAAAAAAAAASQAAAAAAAABZAAAAAAAAAGkAAAAAAAAAeQAAAAAAAACFAAAAAAAAAI0AAAAAAAAAlQAAAAAAAACdAAAAAAAAAKUA=\"},\"shape\":[13],\"dtype\":\"float64\",\"order\":\"little\"},\"minor_ticks\":[]}},\"formatter\":{\"type\":\"object\",\"name\":\"BasicTickFormatter\",\"id\":\"p2188\"},\"axis_label\":\"translation tokens\",\"major_label_overrides\":{\"type\":\"map\",\"entries\":[[0.5,\"_EOS_\"],[1.5,\".\"],[2.5,\"room\"],[3.5,\"living\"],[4.5,\"shared\"],[5.5,\"a\"],[6.5,\"and\"],[7.5,\"kitchen\"],[8.5,\"shared\"],[9.5,\"a\"],[10.5,\"is\"],[11.5,\"there\"],[12.5,\"_BOS_\"]]},\"major_label_policy\":{\"type\":\"object\",\"name\":\"AllLabels\",\"id\":\"p2189\"}}}],\"above\":[{\"type\":\"object\",\"name\":\"LinearAxis\",\"id\":\"p2181\",\"attributes\":{\"ticker\":{\"type\":\"object\",\"name\":\"FixedTicker\",\"id\":\"p2185\",\"attributes\":{\"ticks\":{\"type\":\"ndarray\",\"array\":{\"type\":\"bytes\",\"data\":\"AAAAAAAA4D8AAAAAAAD4PwAAAAAAAARAAAAAAAAADEAAAAAAAAASQAAAAAAAABZAAAAAAAAAGkAAAAAAAAAeQAAAAAAAACFAAAAAAAAAI0AAAAAAAAAlQA==\"},\"shape\":[11],\"dtype\":\"float64\",\"order\":\"little\"},\"minor_ticks\":[]}},\"formatter\":{\"type\":\"object\",\"name\":\"BasicTickFormatter\",\"id\":\"p2183\"},\"axis_label\":\"source tokens\",\"major_label_orientation\":45,\"major_label_overrides\":{\"type\":\"map\",\"entries\":[[0.5,\"_BOS_\"],[1.5,\"\\u0432\"],[2.5,\"\\u0440\\u0430\\u0441\\u043f\\u043e\\u0440\\u044f\\u0436\\u0435\\u043d\\u0438\\u0438\"],[3.5,\"\\u0433\\u043e\\u0441\\u0442\\u0435\\u0439\"],[4.5,\"\\u043e\\u0431\\u0449\\u0430\\u044f\"],[5.5,\"\\u043a\\u0443\\u0445\\u043d\\u044f\"],[6.5,\"\\u0438\"],[7.5,\"\\u043e\\u0431\\u0449\\u0430\\u044f\"],[8.5,\"\\u0433\\u043e\\u0441\\u0442\\u0438\\u043d\\u0430\\u044f\"],[9.5,\".\"],[10.5,\"_EOS_\"]]},\"major_label_policy\":{\"type\":\"object\",\"name\":\"AllLabels\",\"id\":\"p2184\"}}}]}}]}};\n",
              "  const render_items = [{\"docid\":\"4e3fe093-e7d6-484d-8a81-c9c4c0175970\",\"roots\":{\"p2153\":\"a5044b98-73a0-4819-8d3c-8722cd53a0dd\"},\"root_ids\":[\"p2153\"]}];\n",
              "  root.Bokeh.embed.embed_items_notebook(docs_json, render_items);\n",
              "  }\n",
              "  if (root.Bokeh !== undefined) {\n",
              "    embed_document(root);\n",
              "  } else {\n",
              "    let attempts = 0;\n",
              "    const timer = setInterval(function(root) {\n",
              "      if (root.Bokeh !== undefined) {\n",
              "        clearInterval(timer);\n",
              "        embed_document(root);\n",
              "      } else {\n",
              "        attempts++;\n",
              "        if (attempts > 100) {\n",
              "          clearInterval(timer);\n",
              "          console.log(\"Bokeh: ERROR: Unable to run BokehJS code because BokehJS library is missing\");\n",
              "        }\n",
              "      }\n",
              "    }, 10, root)\n",
              "  }\n",
              "})(window);"
            ],
            "application/vnd.bokehjs_exec.v0+json": ""
          },
          "metadata": {
            "application/vnd.bokehjs_exec.v0+json": {
              "id": "p2153"
            }
          }
        },
        {
          "output_type": "display_data",
          "data": {
            "text/html": [
              "\n",
              "  <div id=\"b19e4a56-3383-4987-9085-2ff37e16e3e3\" data-root-id=\"p2194\" style=\"display: contents;\"></div>\n"
            ]
          },
          "metadata": {}
        },
        {
          "output_type": "display_data",
          "data": {
            "application/javascript": [
              "(function(root) {\n",
              "  function embed_document(root) {\n",
              "  const docs_json = {\"ee8939b9-fef6-471e-bbe4-020584d62477\":{\"version\":\"3.2.2\",\"title\":\"Bokeh Application\",\"roots\":[{\"type\":\"object\",\"name\":\"Figure\",\"id\":\"p2194\",\"attributes\":{\"x_range\":{\"type\":\"object\",\"name\":\"Range1d\",\"id\":\"p2203\",\"attributes\":{\"end\":15}},\"y_range\":{\"type\":\"object\",\"name\":\"Range1d\",\"id\":\"p2204\",\"attributes\":{\"end\":21}},\"x_scale\":{\"type\":\"object\",\"name\":\"LinearScale\",\"id\":\"p2205\"},\"y_scale\":{\"type\":\"object\",\"name\":\"LinearScale\",\"id\":\"p2206\"},\"title\":{\"type\":\"object\",\"name\":\"Title\",\"id\":\"p2201\"},\"renderers\":[{\"type\":\"object\",\"name\":\"GlyphRenderer\",\"id\":\"p2219\",\"attributes\":{\"data_source\":{\"type\":\"object\",\"name\":\"ColumnDataSource\",\"id\":\"p2207\",\"attributes\":{\"selected\":{\"type\":\"object\",\"name\":\"Selection\",\"id\":\"p2208\",\"attributes\":{\"indices\":[],\"line_indices\":[]}},\"selection_policy\":{\"type\":\"object\",\"name\":\"UnionRenderers\",\"id\":\"p2209\"},\"data\":{\"type\":\"map\",\"entries\":[[\"image\",[{\"type\":\"ndarray\",\"array\":{\"type\":\"bytes\",\"data\":\"MRqRPUk8pz2xCUw8u/cxPAlpUD3ib688T77dO9q2WDzJ3Ys82vQIPfsSizw4MTg8m/02PQtcJz2PTxE/AocUPnmNjj1oJHY8peZKPAt9oTxy/ek7CmdbPM6MqjvYgLc7eO5KPCrZmTvwILc8aFWIPPlCMz18Zxs/c9cEPuphnz2QJRE99SeFO9ey/zvQeIc7urEIPPX5hTtsDAI8xTCSPOxQjDt5Cbk8sWSDPRKVtD1NCgY/Fp6XPG6jyjz89Uo88CHVOg4aNzuuepk7xz6MPGAhpzvefjU8wgYOPImGFzxB54A8lFDpPS2LMz77PBQ/wNCeOihkHjosTss5+5eZODU40jmrxLU5fXEAO5FdGDrmapk7eKvBPAKpgTyFEA8+8evZPjMygz5KygM+pqDNOp7aHzvlh1A6GaFHOiP9AzvCEeo64Ui4OkfZdjsqnMY8gi/VPDN4Bj7HNrc+10iFPrUyFT4V5iM9SJ6aOxVg0jsPaSs7ajdvOuwVzDsN+4k7HF3YOuYyhTtC2kE9n7+MPUz47T2UHc8+RJY5PiPPzT1ak089UExqOliuhTrlzwg5YK5dOYK7RztaqR47LxSjOwGEnTxDLXo92UVePkXx/z6q5Ns9v18PPUTv8jwlkZM8Z//aPKycbDvXYeg6FxuCOzGpgTuSsSk8RVq0PLefmj2jJDI9OV+4PoCpqD7IoUg9YavXPPvojzwel9Y81riGPEPSvTuwR9c7+Gh9PCrakj1eWqw9275jPZbfIT49Y0o93YCAPnSVVz71wS89+u8iPMgP0Dv0f4M88mwkPcKhEDy8+ZM7haEJPMZ1Ij3gOxo9OPgcPQtqSD67v209ugKQPnoTcj4vwcI8a48OPB/StTtMO1U8IMjFO04UHjxhdLk7mnwhPJtdeDxwPr08fRGzPIEotT2t4pk9lH3FPu+8Xj6VKyE9GklaPdBU+zwlvpc8SpQhPfk0njzsdlI8UvPvPI7tjT1/K5M924AOPkTXFD5ict48VV2ZPk6zuz10BwI9Sp8JPJqBmDs2dSg8uNxEO8e6Wjw/lxc8ufiOO8rFtjx8J8Y8szcwPTX3xj1Pq4I9f4eHPsmgzD5r+bE8hDR8PMatIzyxTgQ8IN6qO8Ii7TuAYqk74FbAO/qq0jwGcrM8bbA5PW661T0rcww+gYKwPiqCeT41sJw8fkxoPLEdazyzx8M7Q8wsPKwsSTwqGaQ7w8XuOy9SFz55ZnM+gkVQPl/0wD3YXzc9avY0PjJF8Dz9xOY76ly3OzYSNDyr/PA7KdA/O0QzqDtMcoo7/NROPKUNQD2ZHgI+otxYPo7TmD5aWV89QewWPm38hj0dqec7SJbOO8o6wzvv93I7m7LDO3M4CTxINb87FApGPEPhkz0C7AM+KPmnPs9pED7rz1g9BhExPs7IAT2LhC88ZMEzPKAxNzwzpes7H/3SOvlJiTtp4To7VZAuPDPurz2jwRw+I+SQPiM+fz4BCT48WgmkPUKPhj0ILzQ8+qFTPBXZnDxpbxM8FY/EOhFNmDs78Yg8roL5PFfdbz0ESXQ+RDC2PlnbXz7Ljk08xNcTPRAhgzyYPTk7Y7VMO2dOSTtB37w6FY/EOhFNmDs78Yg8roL5PFfdbz0ESXQ+RDC2PlnbXz7Ljk08xNcTPRAhgzyYPTk7Y7VMO2dOSTtB37w6\"},\"shape\":[21,15,1],\"dtype\":\"float32\",\"order\":\"little\"}]]]}}},\"view\":{\"type\":\"object\",\"name\":\"CDSView\",\"id\":\"p2220\",\"attributes\":{\"filter\":{\"type\":\"object\",\"name\":\"AllIndices\",\"id\":\"p2221\"}}},\"glyph\":{\"type\":\"object\",\"name\":\"Image\",\"id\":\"p2210\",\"attributes\":{\"x\":{\"type\":\"value\",\"value\":0},\"y\":{\"type\":\"value\",\"value\":0},\"dw\":{\"type\":\"value\",\"value\":15},\"dh\":{\"type\":\"value\",\"value\":21},\"image\":{\"type\":\"field\",\"field\":\"image\"},\"color_mapper\":{\"type\":\"object\",\"name\":\"LinearColorMapper\",\"id\":\"p2211\",\"attributes\":{\"palette\":[\"#000000\",\"#252525\",\"#525252\",\"#737373\",\"#969696\",\"#bdbdbd\",\"#d9d9d9\",\"#f0f0f0\",\"#ffffff\"]}}}},\"nonselection_glyph\":{\"type\":\"object\",\"name\":\"Image\",\"id\":\"p2213\",\"attributes\":{\"x\":{\"type\":\"value\",\"value\":0},\"y\":{\"type\":\"value\",\"value\":0},\"dw\":{\"type\":\"value\",\"value\":15},\"dh\":{\"type\":\"value\",\"value\":21},\"global_alpha\":{\"type\":\"value\",\"value\":0.1},\"image\":{\"type\":\"field\",\"field\":\"image\"},\"color_mapper\":{\"type\":\"object\",\"name\":\"LinearColorMapper\",\"id\":\"p2214\",\"attributes\":{\"palette\":[\"#000000\",\"#252525\",\"#525252\",\"#737373\",\"#969696\",\"#bdbdbd\",\"#d9d9d9\",\"#f0f0f0\",\"#ffffff\"]}}}},\"muted_glyph\":{\"type\":\"object\",\"name\":\"Image\",\"id\":\"p2216\",\"attributes\":{\"x\":{\"type\":\"value\",\"value\":0},\"y\":{\"type\":\"value\",\"value\":0},\"dw\":{\"type\":\"value\",\"value\":15},\"dh\":{\"type\":\"value\",\"value\":21},\"global_alpha\":{\"type\":\"value\",\"value\":0.2},\"image\":{\"type\":\"field\",\"field\":\"image\"},\"color_mapper\":{\"type\":\"object\",\"name\":\"LinearColorMapper\",\"id\":\"p2217\",\"attributes\":{\"palette\":[\"#000000\",\"#252525\",\"#525252\",\"#737373\",\"#969696\",\"#bdbdbd\",\"#d9d9d9\",\"#f0f0f0\",\"#ffffff\"]}}}}}}],\"toolbar\":{\"type\":\"object\",\"name\":\"Toolbar\",\"id\":\"p2202\"},\"left\":[{\"type\":\"object\",\"name\":\"LinearAxis\",\"id\":\"p2227\",\"attributes\":{\"ticker\":{\"type\":\"object\",\"name\":\"FixedTicker\",\"id\":\"p2231\",\"attributes\":{\"ticks\":{\"type\":\"ndarray\",\"array\":{\"type\":\"bytes\",\"data\":\"AAAAAAAA4D8AAAAAAAD4PwAAAAAAAARAAAAAAAAADEAAAAAAAAASQAAAAAAAABZAAAAAAAAAGkAAAAAAAAAeQAAAAAAAACFAAAAAAAAAI0AAAAAAAAAlQAAAAAAAACdAAAAAAAAAKUAAAAAAAAArQAAAAAAAAC1AAAAAAAAAL0AAAAAAAIAwQAAAAAAAgDFAAAAAAACAMkAAAAAAAIAzQAAAAAAAgDRA\"},\"shape\":[21],\"dtype\":\"float64\",\"order\":\"little\"},\"minor_ticks\":[]}},\"formatter\":{\"type\":\"object\",\"name\":\"BasicTickFormatter\",\"id\":\"p2229\"},\"axis_label\":\"translation tokens\",\"major_label_overrides\":{\"type\":\"map\",\"entries\":[[0.5,\"_EOS_\"],[1.5,\".\"],[2.5,\"available\"],[3.5,\"is\"],[4.5,\"parking\"],[5.5,\"free\"],[6.5,\"and\"],[7.5,\"service\"],[8.5,\"shuttle\"],[9.5,\",\"],[10.5,\"use\"],[11.5,\"guest\"],[12.5,\"for\"],[13.5,\"available\"],[14.5,\"is\"],[15.5,\"rental\"],[16.5,\"bicycle\"],[17.5,\"-\"],[18.5,\"split\"],[19.5,\"this\"],[20.5,\"_BOS_\"]]},\"major_label_policy\":{\"type\":\"object\",\"name\":\"AllLabels\",\"id\":\"p2230\"}}}],\"above\":[{\"type\":\"object\",\"name\":\"LinearAxis\",\"id\":\"p2222\",\"attributes\":{\"ticker\":{\"type\":\"object\",\"name\":\"FixedTicker\",\"id\":\"p2226\",\"attributes\":{\"ticks\":{\"type\":\"ndarray\",\"array\":{\"type\":\"bytes\",\"data\":\"AAAAAAAA4D8AAAAAAAD4PwAAAAAAAARAAAAAAAAADEAAAAAAAAASQAAAAAAAABZAAAAAAAAAGkAAAAAAAAAeQAAAAAAAACFAAAAAAAAAI0AAAAAAAAAlQAAAAAAAACdAAAAAAAAAKUAAAAAAAAArQAAAAAAAAC1A\"},\"shape\":[15],\"dtype\":\"float64\",\"order\":\"little\"},\"minor_ticks\":[]}},\"formatter\":{\"type\":\"object\",\"name\":\"BasicTickFormatter\",\"id\":\"p2224\"},\"axis_label\":\"source tokens\",\"major_label_orientation\":45,\"major_label_overrides\":{\"type\":\"map\",\"entries\":[[0.5,\"_BOS_\"],[1.5,\"\\u043a\\u0440\\u043e\\u043c\\u0435\"],[2.5,\"\\u0442\\u043e\\u0433\\u043e\"],[3.5,\",\"],[4.5,\"\\u043f\\u0440\\u0435\\u0434\\u043e\\u0441\\u0442\\u0430\\u0432\\u043b\\u044f\\u0435\\u0442\\u0441\\u044f\"],[5.5,\"\\u043f\\u0440\\u043e\\u043a\\u0430\\u0442\"],[6.5,\"\\u0432\\u0435\\u043b\\u043e\\u0441\\u0438\\u043f\\u0435\\u0434\\u043e\\u0432\"],[7.5,\",\"],[8.5,\"\\u0443\\u0441\\u043b\\u0443\\u0433\\u0438\"],[9.5,\"\\u0442\\u0440\\u0430\\u043d\\u0441\\u0444\\u0435\\u0440\\u0430\"],[10.5,\"\\u0438\"],[11.5,\"\\u0431\\u0435\\u0441\\u043f\\u043b\\u0430\\u0442\\u043d\\u0430\\u044f\"],[12.5,\"\\u043f\\u0430\\u0440\\u043a\\u043e\\u0432\\u043a\\u0430\"],[13.5,\".\"],[14.5,\"_EOS_\"]]},\"major_label_policy\":{\"type\":\"object\",\"name\":\"AllLabels\",\"id\":\"p2225\"}}}]}}]}};\n",
              "  const render_items = [{\"docid\":\"ee8939b9-fef6-471e-bbe4-020584d62477\",\"roots\":{\"p2194\":\"b19e4a56-3383-4987-9085-2ff37e16e3e3\"},\"root_ids\":[\"p2194\"]}];\n",
              "  root.Bokeh.embed.embed_items_notebook(docs_json, render_items);\n",
              "  }\n",
              "  if (root.Bokeh !== undefined) {\n",
              "    embed_document(root);\n",
              "  } else {\n",
              "    let attempts = 0;\n",
              "    const timer = setInterval(function(root) {\n",
              "      if (root.Bokeh !== undefined) {\n",
              "        clearInterval(timer);\n",
              "        embed_document(root);\n",
              "      } else {\n",
              "        attempts++;\n",
              "        if (attempts > 100) {\n",
              "          clearInterval(timer);\n",
              "          console.log(\"Bokeh: ERROR: Unable to run BokehJS code because BokehJS library is missing\");\n",
              "        }\n",
              "      }\n",
              "    }, 10, root)\n",
              "  }\n",
              "})(window);"
            ],
            "application/vnd.bokehjs_exec.v0+json": ""
          },
          "metadata": {
            "application/vnd.bokehjs_exec.v0+json": {
              "id": "p2194"
            }
          }
        },
        {
          "output_type": "display_data",
          "data": {
            "text/html": [
              "\n",
              "  <div id=\"eb55c1b9-1b17-4320-8bda-e262d5f92d03\" data-root-id=\"p2235\" style=\"display: contents;\"></div>\n"
            ]
          },
          "metadata": {}
        },
        {
          "output_type": "display_data",
          "data": {
            "application/javascript": [
              "(function(root) {\n",
              "  function embed_document(root) {\n",
              "  const docs_json = {\"0611d1f1-deea-406f-8859-374cc3a4aceb\":{\"version\":\"3.2.2\",\"title\":\"Bokeh Application\",\"roots\":[{\"type\":\"object\",\"name\":\"Figure\",\"id\":\"p2235\",\"attributes\":{\"x_range\":{\"type\":\"object\",\"name\":\"Range1d\",\"id\":\"p2244\",\"attributes\":{\"end\":13}},\"y_range\":{\"type\":\"object\",\"name\":\"Range1d\",\"id\":\"p2245\",\"attributes\":{\"end\":8}},\"x_scale\":{\"type\":\"object\",\"name\":\"LinearScale\",\"id\":\"p2246\"},\"y_scale\":{\"type\":\"object\",\"name\":\"LinearScale\",\"id\":\"p2247\"},\"title\":{\"type\":\"object\",\"name\":\"Title\",\"id\":\"p2242\"},\"renderers\":[{\"type\":\"object\",\"name\":\"GlyphRenderer\",\"id\":\"p2260\",\"attributes\":{\"data_source\":{\"type\":\"object\",\"name\":\"ColumnDataSource\",\"id\":\"p2248\",\"attributes\":{\"selected\":{\"type\":\"object\",\"name\":\"Selection\",\"id\":\"p2249\",\"attributes\":{\"indices\":[],\"line_indices\":[]}},\"selection_policy\":{\"type\":\"object\",\"name\":\"UnionRenderers\",\"id\":\"p2250\"},\"data\":{\"type\":\"map\",\"entries\":[[\"image\",[{\"type\":\"ndarray\",\"array\":{\"type\":\"bytes\",\"data\":\"g3U6P4iOJT7P0XY8B/hRO+mUujr0i4Y6oOLmOyJiXTsQpak5eM5WOnMPrTsvBYs7nJaLPTS0ED9S6ZA9KqgMPSECEzz9lfw6/YpnOzs/WzwX6tg6nA2BOQnwUTpLqss7yxaCPE7YjT7OeX89zTqLPAOIPT75jBk8VaetOsqo3zp2Jcc7Lo1jO6/Y9jppV3U8ujKtPo1aKz46tEM+exr5ORAhyzqiu0A8NdzdOro3Mzo4TCY6F46COvdUiTpaCS47U1k8PX6tRT8OJQI+2SsIPZXY7ToKAd46j/hRO2aXwzs8IDM9ohCJPK5C2TxNMRw9wtAMPTQHEz5r8BM/0qmVPaNLCD1h+SE7AYxoOrNRtTtksVo9xjLSPeTRET1+KQs+fQ4AP0Tp1T1+lAI9kEqBPH03DzujdhQ8RZciOcfdMDosibg58Yy7O+L1qj4eWGo+HstIPiVHWD6WNo48N8nmOi6Pajo1AgA7rlaMOkWXIjnH3TA6LIm4OfGMuzvi9ao+HlhqPh7LSD4lR1g+ljaOPDfJ5jouj2o6NQIAO65WjDo=\"},\"shape\":[8,13,1],\"dtype\":\"float32\",\"order\":\"little\"}]]]}}},\"view\":{\"type\":\"object\",\"name\":\"CDSView\",\"id\":\"p2261\",\"attributes\":{\"filter\":{\"type\":\"object\",\"name\":\"AllIndices\",\"id\":\"p2262\"}}},\"glyph\":{\"type\":\"object\",\"name\":\"Image\",\"id\":\"p2251\",\"attributes\":{\"x\":{\"type\":\"value\",\"value\":0},\"y\":{\"type\":\"value\",\"value\":0},\"dw\":{\"type\":\"value\",\"value\":13},\"dh\":{\"type\":\"value\",\"value\":8},\"image\":{\"type\":\"field\",\"field\":\"image\"},\"color_mapper\":{\"type\":\"object\",\"name\":\"LinearColorMapper\",\"id\":\"p2252\",\"attributes\":{\"palette\":[\"#000000\",\"#252525\",\"#525252\",\"#737373\",\"#969696\",\"#bdbdbd\",\"#d9d9d9\",\"#f0f0f0\",\"#ffffff\"]}}}},\"nonselection_glyph\":{\"type\":\"object\",\"name\":\"Image\",\"id\":\"p2254\",\"attributes\":{\"x\":{\"type\":\"value\",\"value\":0},\"y\":{\"type\":\"value\",\"value\":0},\"dw\":{\"type\":\"value\",\"value\":13},\"dh\":{\"type\":\"value\",\"value\":8},\"global_alpha\":{\"type\":\"value\",\"value\":0.1},\"image\":{\"type\":\"field\",\"field\":\"image\"},\"color_mapper\":{\"type\":\"object\",\"name\":\"LinearColorMapper\",\"id\":\"p2255\",\"attributes\":{\"palette\":[\"#000000\",\"#252525\",\"#525252\",\"#737373\",\"#969696\",\"#bdbdbd\",\"#d9d9d9\",\"#f0f0f0\",\"#ffffff\"]}}}},\"muted_glyph\":{\"type\":\"object\",\"name\":\"Image\",\"id\":\"p2257\",\"attributes\":{\"x\":{\"type\":\"value\",\"value\":0},\"y\":{\"type\":\"value\",\"value\":0},\"dw\":{\"type\":\"value\",\"value\":13},\"dh\":{\"type\":\"value\",\"value\":8},\"global_alpha\":{\"type\":\"value\",\"value\":0.2},\"image\":{\"type\":\"field\",\"field\":\"image\"},\"color_mapper\":{\"type\":\"object\",\"name\":\"LinearColorMapper\",\"id\":\"p2258\",\"attributes\":{\"palette\":[\"#000000\",\"#252525\",\"#525252\",\"#737373\",\"#969696\",\"#bdbdbd\",\"#d9d9d9\",\"#f0f0f0\",\"#ffffff\"]}}}}}}],\"toolbar\":{\"type\":\"object\",\"name\":\"Toolbar\",\"id\":\"p2243\"},\"left\":[{\"type\":\"object\",\"name\":\"LinearAxis\",\"id\":\"p2268\",\"attributes\":{\"ticker\":{\"type\":\"object\",\"name\":\"FixedTicker\",\"id\":\"p2272\",\"attributes\":{\"ticks\":{\"type\":\"ndarray\",\"array\":{\"type\":\"bytes\",\"data\":\"AAAAAAAA4D8AAAAAAAD4PwAAAAAAAARAAAAAAAAADEAAAAAAAAASQAAAAAAAABZAAAAAAAAAGkAAAAAAAAAeQA==\"},\"shape\":[8],\"dtype\":\"float64\",\"order\":\"little\"},\"minor_ticks\":[]}},\"formatter\":{\"type\":\"object\",\"name\":\"BasicTickFormatter\",\"id\":\"p2270\"},\"axis_label\":\"translation tokens\",\"major_label_overrides\":{\"type\":\"map\",\"entries\":[[0.5,\"_EOS_\"],[1.5,\".\"],[2.5,\"away\"],[3.5,\"km\"],[4.5,\"26\"],[5.5,\"is\"],[6.5,\"kissimmee\"],[7.5,\"_BOS_\"]]},\"major_label_policy\":{\"type\":\"object\",\"name\":\"AllLabels\",\"id\":\"p2271\"}}}],\"above\":[{\"type\":\"object\",\"name\":\"LinearAxis\",\"id\":\"p2263\",\"attributes\":{\"ticker\":{\"type\":\"object\",\"name\":\"FixedTicker\",\"id\":\"p2267\",\"attributes\":{\"ticks\":{\"type\":\"ndarray\",\"array\":{\"type\":\"bytes\",\"data\":\"AAAAAAAA4D8AAAAAAAD4PwAAAAAAAARAAAAAAAAADEAAAAAAAAASQAAAAAAAABZAAAAAAAAAGkAAAAAAAAAeQAAAAAAAACFAAAAAAAAAI0AAAAAAAAAlQAAAAAAAACdAAAAAAAAAKUA=\"},\"shape\":[13],\"dtype\":\"float64\",\"order\":\"little\"},\"minor_ticks\":[]}},\"formatter\":{\"type\":\"object\",\"name\":\"BasicTickFormatter\",\"id\":\"p2265\"},\"axis_label\":\"source tokens\",\"major_label_orientation\":45,\"major_label_overrides\":{\"type\":\"map\",\"entries\":[[0.5,\"_BOS_\"],[1.5,\"\\u0440\\u0430\\u0441\\u0441\\u0442\\u043e\\u044f\\u043d\\u0438\\u0435\"],[2.5,\"\\u0434\\u043e\"],[3.5,\"\\u0433\\u043e\\u0440\\u043e\\u0434\\u0430\"],[4.5,\"\\u043a\\u0438@@\"],[5.5,\"\\u0441\\u0441\\u0438@@\"],[6.5,\"\\u043c@@\"],[7.5,\"\\u043c\\u0438\"],[8.5,\"\\u0441\\u043e\\u0441\\u0442\\u0430\\u0432\\u043b\\u044f\\u0435\\u0442\"],[9.5,\"26\"],[10.5,\"\\u043a\\u043c\"],[11.5,\".\"],[12.5,\"_EOS_\"]]},\"major_label_policy\":{\"type\":\"object\",\"name\":\"AllLabels\",\"id\":\"p2266\"}}}]}}]}};\n",
              "  const render_items = [{\"docid\":\"0611d1f1-deea-406f-8859-374cc3a4aceb\",\"roots\":{\"p2235\":\"eb55c1b9-1b17-4320-8bda-e262d5f92d03\"},\"root_ids\":[\"p2235\"]}];\n",
              "  root.Bokeh.embed.embed_items_notebook(docs_json, render_items);\n",
              "  }\n",
              "  if (root.Bokeh !== undefined) {\n",
              "    embed_document(root);\n",
              "  } else {\n",
              "    let attempts = 0;\n",
              "    const timer = setInterval(function(root) {\n",
              "      if (root.Bokeh !== undefined) {\n",
              "        clearInterval(timer);\n",
              "        embed_document(root);\n",
              "      } else {\n",
              "        attempts++;\n",
              "        if (attempts > 100) {\n",
              "          clearInterval(timer);\n",
              "          console.log(\"Bokeh: ERROR: Unable to run BokehJS code because BokehJS library is missing\");\n",
              "        }\n",
              "      }\n",
              "    }, 10, root)\n",
              "  }\n",
              "})(window);"
            ],
            "application/vnd.bokehjs_exec.v0+json": ""
          },
          "metadata": {
            "application/vnd.bokehjs_exec.v0+json": {
              "id": "p2235"
            }
          }
        },
        {
          "output_type": "display_data",
          "data": {
            "text/html": [
              "\n",
              "  <div id=\"f0e8d88e-6593-48a0-8e28-5b14c39d3610\" data-root-id=\"p2276\" style=\"display: contents;\"></div>\n"
            ]
          },
          "metadata": {}
        },
        {
          "output_type": "display_data",
          "data": {
            "application/javascript": [
              "(function(root) {\n",
              "  function embed_document(root) {\n",
              "  const docs_json = {\"373a0297-dbd1-4d8c-9ecd-14d983f1e009\":{\"version\":\"3.2.2\",\"title\":\"Bokeh Application\",\"roots\":[{\"type\":\"object\",\"name\":\"Figure\",\"id\":\"p2276\",\"attributes\":{\"x_range\":{\"type\":\"object\",\"name\":\"Range1d\",\"id\":\"p2285\",\"attributes\":{\"end\":32}},\"y_range\":{\"type\":\"object\",\"name\":\"Range1d\",\"id\":\"p2286\",\"attributes\":{\"end\":34}},\"x_scale\":{\"type\":\"object\",\"name\":\"LinearScale\",\"id\":\"p2287\"},\"y_scale\":{\"type\":\"object\",\"name\":\"LinearScale\",\"id\":\"p2288\"},\"title\":{\"type\":\"object\",\"name\":\"Title\",\"id\":\"p2283\"},\"renderers\":[{\"type\":\"object\",\"name\":\"GlyphRenderer\",\"id\":\"p2301\",\"attributes\":{\"data_source\":{\"type\":\"object\",\"name\":\"ColumnDataSource\",\"id\":\"p2289\",\"attributes\":{\"selected\":{\"type\":\"object\",\"name\":\"Selection\",\"id\":\"p2290\",\"attributes\":{\"indices\":[],\"line_indices\":[]}},\"selection_policy\":{\"type\":\"object\",\"name\":\"UnionRenderers\",\"id\":\"p2291\"},\"data\":{\"type\":\"map\",\"entries\":[[\"image\",[{\"type\":\"ndarray\",\"array\":{\"type\":\"bytes\",\"data\":\"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\"},\"shape\":[34,32,1],\"dtype\":\"float32\",\"order\":\"little\"}]]]}}},\"view\":{\"type\":\"object\",\"name\":\"CDSView\",\"id\":\"p2302\",\"attributes\":{\"filter\":{\"type\":\"object\",\"name\":\"AllIndices\",\"id\":\"p2303\"}}},\"glyph\":{\"type\":\"object\",\"name\":\"Image\",\"id\":\"p2292\",\"attributes\":{\"x\":{\"type\":\"value\",\"value\":0},\"y\":{\"type\":\"value\",\"value\":0},\"dw\":{\"type\":\"value\",\"value\":32},\"dh\":{\"type\":\"value\",\"value\":34},\"image\":{\"type\":\"field\",\"field\":\"image\"},\"color_mapper\":{\"type\":\"object\",\"name\":\"LinearColorMapper\",\"id\":\"p2293\",\"attributes\":{\"palette\":[\"#000000\",\"#252525\",\"#525252\",\"#737373\",\"#969696\",\"#bdbdbd\",\"#d9d9d9\",\"#f0f0f0\",\"#ffffff\"]}}}},\"nonselection_glyph\":{\"type\":\"object\",\"name\":\"Image\",\"id\":\"p2295\",\"attributes\":{\"x\":{\"type\":\"value\",\"value\":0},\"y\":{\"type\":\"value\",\"value\":0},\"dw\":{\"type\":\"value\",\"value\":32},\"dh\":{\"type\":\"value\",\"value\":34},\"global_alpha\":{\"type\":\"value\",\"value\":0.1},\"image\":{\"type\":\"field\",\"field\":\"image\"},\"color_mapper\":{\"type\":\"object\",\"name\":\"LinearColorMapper\",\"id\":\"p2296\",\"attributes\":{\"palette\":[\"#000000\",\"#252525\",\"#525252\",\"#737373\",\"#969696\",\"#bdbdbd\",\"#d9d9d9\",\"#f0f0f0\",\"#ffffff\"]}}}},\"muted_glyph\":{\"type\":\"object\",\"name\":\"Image\",\"id\":\"p2298\",\"attributes\":{\"x\":{\"type\":\"value\",\"value\":0},\"y\":{\"type\":\"value\",\"value\":0},\"dw\":{\"type\":\"value\",\"value\":32},\"dh\":{\"type\":\"value\",\"value\":34},\"global_alpha\":{\"type\":\"value\",\"value\":0.2},\"image\":{\"type\":\"field\",\"field\":\"image\"},\"color_mapper\":{\"type\":\"object\",\"name\":\"LinearColorMapper\",\"id\":\"p2299\",\"attributes\":{\"palette\":[\"#000000\",\"#252525\",\"#525252\",\"#737373\",\"#969696\",\"#bdbdbd\",\"#d9d9d9\",\"#f0f0f0\",\"#ffffff\"]}}}}}}],\"toolbar\":{\"type\":\"object\",\"name\":\"Toolbar\",\"id\":\"p2284\"},\"left\":[{\"type\":\"object\",\"name\":\"LinearAxis\",\"id\":\"p2309\",\"attributes\":{\"ticker\":{\"type\":\"object\",\"name\":\"FixedTicker\",\"id\":\"p2313\",\"attributes\":{\"ticks\":{\"type\":\"ndarray\",\"array\":{\"type\":\"bytes\",\"data\":\"AAAAAAAA4D8AAAAAAAD4PwAAAAAAAARAAAAAAAAADEAAAAAAAAASQAAAAAAAABZAAAAAAAAAGkAAAAAAAAAeQAAAAAAAACFAAAAAAAAAI0AAAAAAAAAlQAAAAAAAACdAAAAAAAAAKUAAAAAAAAArQAAAAAAAAC1AAAAAAAAAL0AAAAAAAIAwQAAAAAAAgDFAAAAAAACAMkAAAAAAAIAzQAAAAAAAgDRAAAAAAACANUAAAAAAAIA2QAAAAAAAgDdAAAAAAACAOEAAAAAAAIA5QAAAAAAAgDpAAAAAAACAO0AAAAAAAIA8QAAAAAAAgD1AAAAAAACAPkAAAAAAAIA/QAAAAAAAQEBAAAAAAADAQEA=\"},\"shape\":[34],\"dtype\":\"float64\",\"order\":\"little\"},\"minor_ticks\":[]}},\"formatter\":{\"type\":\"object\",\"name\":\"BasicTickFormatter\",\"id\":\"p2311\"},\"axis_label\":\"translation tokens\",\"major_label_overrides\":{\"type\":\"map\",\"entries\":[[0.5,\"_EOS_\"],[1.5,\".\"],[2.5,\"beach\"],[3.5,\"wa\"],[4.5,\"ka@@\"],[5.5,\"el\"],[6.5,\"pi@@\"],[7.5,\"of\"],[8.5,\"walk\"],[9.5,\"minute\"],[10.5,\"-\"],[11.5,\"5\"],[12.5,\"spacious\"],[13.5,\"a\"],[14.5,\"in\"],[15.5,\"situated\"],[16.5,\"is\"],[17.5,\"villa\"],[18.5,\",\"],[19.5,\"terrace\"],[20.5,\"sun\"],[21.5,\"a\"],[22.5,\"with\"],[23.5,\"garden\"],[24.5,\",\"],[25.5,\"terrace\"],[26.5,\"sun\"],[27.5,\"a\"],[28.5,\"with\"],[29.5,\"garden\"],[30.5,\"shared\"],[31.5,\"a\"],[32.5,\"featuring\"],[33.5,\"_BOS_\"]]},\"major_label_policy\":{\"type\":\"object\",\"name\":\"AllLabels\",\"id\":\"p2312\"}}}],\"above\":[{\"type\":\"object\",\"name\":\"LinearAxis\",\"id\":\"p2304\",\"attributes\":{\"ticker\":{\"type\":\"object\",\"name\":\"FixedTicker\",\"id\":\"p2308\",\"attributes\":{\"ticks\":{\"type\":\"ndarray\",\"array\":{\"type\":\"bytes\",\"data\":\"AAAAAAAA4D8AAAAAAAD4PwAAAAAAAARAAAAAAAAADEAAAAAAAAASQAAAAAAAABZAAAAAAAAAGkAAAAAAAAAeQAAAAAAAACFAAAAAAAAAI0AAAAAAAAAlQAAAAAAAACdAAAAAAAAAKUAAAAAAAAArQAAAAAAAAC1AAAAAAAAAL0AAAAAAAIAwQAAAAAAAgDFAAAAAAACAMkAAAAAAAIAzQAAAAAAAgDRAAAAAAACANUAAAAAAAIA2QAAAAAAAgDdAAAAAAACAOEAAAAAAAIA5QAAAAAAAgDpAAAAAAACAO0AAAAAAAIA8QAAAAAAAgD1AAAAAAACAPkAAAAAAAIA/QA==\"},\"shape\":[32],\"dtype\":\"float64\",\"order\":\"little\"},\"minor_ticks\":[]}},\"formatter\":{\"type\":\"object\",\"name\":\"BasicTickFormatter\",\"id\":\"p2306\"},\"axis_label\":\"source tokens\",\"major_label_orientation\":45,\"major_label_overrides\":{\"type\":\"map\",\"entries\":[[0.5,\"_BOS_\"],[1.5,\"\\u0430\\u043f\\u0430\\u0440\\u0442\\u0430\\u043c\\u0435\\u043d\\u0442\\u044b\"],[2.5,\"\\u0432\"],[3.5,\"\\u043f\\u0435\\u043d\\u0442@@\"],[4.5,\"\\u0445\\u0430\\u0443\\u0441\\u0435\"],[5.5,\"\\u0441\"],[6.5,\"\\u043e\\u0431\\u0449\\u0438\\u043c\"],[7.5,\"\\u043e\\u0442\\u043a\\u0440\\u044b\\u0442\\u044b\\u043c\"],[8.5,\"\\u0431\\u0430\\u0441\\u0441\\u0435\\u0439\\u043d\\u043e\\u043c\"],[9.5,\",\"],[10.5,\"\\u0441\\u0430\\u0434\\u043e\\u043c\"],[11.5,\",\"],[12.5,\"\\u043a\\u043e\\u043d\\u0434\\u0438\\u0446\\u0438\\u043e\\u043d\\u0435\\u0440\\u043e\\u043c\"],[13.5,\"\\u0438\"],[14.5,\"\\u0442\\u0435\\u0440\\u0440\\u0430\\u0441\\u043e\\u0439\"],[15.5,\"\\u0434\\u043b\\u044f\"],[16.5,\"\\u0437\\u0430\\u0433\\u0430\\u0440\\u0430\"],[17.5,\"\\u0440\\u0430\\u0441\\u043f\\u043e\\u043b\\u043e\\u0436\\u0435\\u043d\\u044b\"],[18.5,\"\\u0432\"],[19.5,\"5\"],[20.5,\"\\u043c\\u0438\\u043d\\u0443\\u0442\\u0430\\u0445\"],[21.5,\"\\u0445\\u043e\\u0434\\u044c\\u0431\\u044b\"],[22.5,\"\\u043e\\u0442\"],[23.5,\"\\u043f\\u043b\\u044f\\u0436\\u0430\"],[24.5,\"\\u043d\\u0430\"],[25.5,\"\\u043a\\u0443\\u0440\\u043e\\u0440\\u0442\\u0435\"],[26.5,\"\\u043a\\u0430@@\"],[27.5,\"\\u0431\\u043e\"],[28.5,\"-\"],[29.5,\"\\u0440\\u043e\\u0439\"],[30.5,\".\"],[31.5,\"_EOS_\"]]},\"major_label_policy\":{\"type\":\"object\",\"name\":\"AllLabels\",\"id\":\"p2307\"}}}]}}]}};\n",
              "  const render_items = [{\"docid\":\"373a0297-dbd1-4d8c-9ecd-14d983f1e009\",\"roots\":{\"p2276\":\"f0e8d88e-6593-48a0-8e28-5b14c39d3610\"},\"root_ids\":[\"p2276\"]}];\n",
              "  root.Bokeh.embed.embed_items_notebook(docs_json, render_items);\n",
              "  }\n",
              "  if (root.Bokeh !== undefined) {\n",
              "    embed_document(root);\n",
              "  } else {\n",
              "    let attempts = 0;\n",
              "    const timer = setInterval(function(root) {\n",
              "      if (root.Bokeh !== undefined) {\n",
              "        clearInterval(timer);\n",
              "        embed_document(root);\n",
              "      } else {\n",
              "        attempts++;\n",
              "        if (attempts > 100) {\n",
              "          clearInterval(timer);\n",
              "          console.log(\"Bokeh: ERROR: Unable to run BokehJS code because BokehJS library is missing\");\n",
              "        }\n",
              "      }\n",
              "    }, 10, root)\n",
              "  }\n",
              "})(window);"
            ],
            "application/vnd.bokehjs_exec.v0+json": ""
          },
          "metadata": {
            "application/vnd.bokehjs_exec.v0+json": {
              "id": "p2276"
            }
          }
        },
        {
          "output_type": "display_data",
          "data": {
            "text/html": [
              "\n",
              "  <div id=\"a7b373f5-f214-485c-926e-4da2c78edcc0\" data-root-id=\"p2317\" style=\"display: contents;\"></div>\n"
            ]
          },
          "metadata": {}
        },
        {
          "output_type": "display_data",
          "data": {
            "application/javascript": [
              "(function(root) {\n",
              "  function embed_document(root) {\n",
              "  const docs_json = {\"f4ce651d-37d7-4b27-953a-2d66bccb3c85\":{\"version\":\"3.2.2\",\"title\":\"Bokeh Application\",\"roots\":[{\"type\":\"object\",\"name\":\"Figure\",\"id\":\"p2317\",\"attributes\":{\"x_range\":{\"type\":\"object\",\"name\":\"Range1d\",\"id\":\"p2326\",\"attributes\":{\"end\":23}},\"y_range\":{\"type\":\"object\",\"name\":\"Range1d\",\"id\":\"p2327\",\"attributes\":{\"end\":27}},\"x_scale\":{\"type\":\"object\",\"name\":\"LinearScale\",\"id\":\"p2328\"},\"y_scale\":{\"type\":\"object\",\"name\":\"LinearScale\",\"id\":\"p2329\"},\"title\":{\"type\":\"object\",\"name\":\"Title\",\"id\":\"p2324\"},\"renderers\":[{\"type\":\"object\",\"name\":\"GlyphRenderer\",\"id\":\"p2342\",\"attributes\":{\"data_source\":{\"type\":\"object\",\"name\":\"ColumnDataSource\",\"id\":\"p2330\",\"attributes\":{\"selected\":{\"type\":\"object\",\"name\":\"Selection\",\"id\":\"p2331\",\"attributes\":{\"indices\":[],\"line_indices\":[]}},\"selection_policy\":{\"type\":\"object\",\"name\":\"UnionRenderers\",\"id\":\"p2332\"},\"data\":{\"type\":\"map\",\"entries\":[[\"image\",[{\"type\":\"ndarray\",\"array\":{\"type\":\"bytes\",\"data\":\"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\"},\"shape\":[27,23,1],\"dtype\":\"float32\",\"order\":\"little\"}]]]}}},\"view\":{\"type\":\"object\",\"name\":\"CDSView\",\"id\":\"p2343\",\"attributes\":{\"filter\":{\"type\":\"object\",\"name\":\"AllIndices\",\"id\":\"p2344\"}}},\"glyph\":{\"type\":\"object\",\"name\":\"Image\",\"id\":\"p2333\",\"attributes\":{\"x\":{\"type\":\"value\",\"value\":0},\"y\":{\"type\":\"value\",\"value\":0},\"dw\":{\"type\":\"value\",\"value\":23},\"dh\":{\"type\":\"value\",\"value\":27},\"image\":{\"type\":\"field\",\"field\":\"image\"},\"color_mapper\":{\"type\":\"object\",\"name\":\"LinearColorMapper\",\"id\":\"p2334\",\"attributes\":{\"palette\":[\"#000000\",\"#252525\",\"#525252\",\"#737373\",\"#969696\",\"#bdbdbd\",\"#d9d9d9\",\"#f0f0f0\",\"#ffffff\"]}}}},\"nonselection_glyph\":{\"type\":\"object\",\"name\":\"Image\",\"id\":\"p2336\",\"attributes\":{\"x\":{\"type\":\"value\",\"value\":0},\"y\":{\"type\":\"value\",\"value\":0},\"dw\":{\"type\":\"value\",\"value\":23},\"dh\":{\"type\":\"value\",\"value\":27},\"global_alpha\":{\"type\":\"value\",\"value\":0.1},\"image\":{\"type\":\"field\",\"field\":\"image\"},\"color_mapper\":{\"type\":\"object\",\"name\":\"LinearColorMapper\",\"id\":\"p2337\",\"attributes\":{\"palette\":[\"#000000\",\"#252525\",\"#525252\",\"#737373\",\"#969696\",\"#bdbdbd\",\"#d9d9d9\",\"#f0f0f0\",\"#ffffff\"]}}}},\"muted_glyph\":{\"type\":\"object\",\"name\":\"Image\",\"id\":\"p2339\",\"attributes\":{\"x\":{\"type\":\"value\",\"value\":0},\"y\":{\"type\":\"value\",\"value\":0},\"dw\":{\"type\":\"value\",\"value\":23},\"dh\":{\"type\":\"value\",\"value\":27},\"global_alpha\":{\"type\":\"value\",\"value\":0.2},\"image\":{\"type\":\"field\",\"field\":\"image\"},\"color_mapper\":{\"type\":\"object\",\"name\":\"LinearColorMapper\",\"id\":\"p2340\",\"attributes\":{\"palette\":[\"#000000\",\"#252525\",\"#525252\",\"#737373\",\"#969696\",\"#bdbdbd\",\"#d9d9d9\",\"#f0f0f0\",\"#ffffff\"]}}}}}}],\"toolbar\":{\"type\":\"object\",\"name\":\"Toolbar\",\"id\":\"p2325\"},\"left\":[{\"type\":\"object\",\"name\":\"LinearAxis\",\"id\":\"p2350\",\"attributes\":{\"ticker\":{\"type\":\"object\",\"name\":\"FixedTicker\",\"id\":\"p2354\",\"attributes\":{\"ticks\":{\"type\":\"ndarray\",\"array\":{\"type\":\"bytes\",\"data\":\"AAAAAAAA4D8AAAAAAAD4PwAAAAAAAARAAAAAAAAADEAAAAAAAAASQAAAAAAAABZAAAAAAAAAGkAAAAAAAAAeQAAAAAAAACFAAAAAAAAAI0AAAAAAAAAlQAAAAAAAACdAAAAAAAAAKUAAAAAAAAArQAAAAAAAAC1AAAAAAAAAL0AAAAAAAIAwQAAAAAAAgDFAAAAAAACAMkAAAAAAAIAzQAAAAAAAgDRAAAAAAACANUAAAAAAAIA2QAAAAAAAgDdAAAAAAACAOEAAAAAAAIA5QAAAAAAAgDpA\"},\"shape\":[27],\"dtype\":\"float64\",\"order\":\"little\"},\"minor_ticks\":[]}},\"formatter\":{\"type\":\"object\",\"name\":\"BasicTickFormatter\",\"id\":\"p2352\"},\"axis_label\":\"translation tokens\",\"major_label_overrides\":{\"type\":\"map\",\"entries\":[[0.5,\"_EOS_\"],[1.5,\".\"],[2.5,\"property\"],[3.5,\"the\"],[4.5,\"from\"],[5.5,\"metres\"],[6.5,\"200\"],[7.5,\"is\"],[8.5,\"station\"],[9.5,\"train\"],[10.5,\"es\"],[11.5,\"\\u0159@@\"],[12.5,\"t@@\"],[13.5,\"bro@@\"],[14.5,\"museum\"],[15.5,\",\"],[16.5,\"as\"],[17.5,\"be@@\"],[18.5,\"char@@\"],[19.5,\"in\"],[20.5,\"apartment\"],[21.5,\"the\"],[22.5,\"from\"],[23.5,\"metres\"],[24.5,\"200\"],[25.5,\"only\"],[26.5,\"_BOS_\"]]},\"major_label_policy\":{\"type\":\"object\",\"name\":\"AllLabels\",\"id\":\"p2353\"}}}],\"above\":[{\"type\":\"object\",\"name\":\"LinearAxis\",\"id\":\"p2345\",\"attributes\":{\"ticker\":{\"type\":\"object\",\"name\":\"FixedTicker\",\"id\":\"p2349\",\"attributes\":{\"ticks\":{\"type\":\"ndarray\",\"array\":{\"type\":\"bytes\",\"data\":\"AAAAAAAA4D8AAAAAAAD4PwAAAAAAAARAAAAAAAAADEAAAAAAAAASQAAAAAAAABZAAAAAAAAAGkAAAAAAAAAeQAAAAAAAACFAAAAAAAAAI0AAAAAAAAAlQAAAAAAAACdAAAAAAAAAKUAAAAAAAAArQAAAAAAAAC1AAAAAAAAAL0AAAAAAAIAwQAAAAAAAgDFAAAAAAACAMkAAAAAAAIAzQAAAAAAAgDRAAAAAAACANUAAAAAAAIA2QA==\"},\"shape\":[23],\"dtype\":\"float64\",\"order\":\"little\"},\"minor_ticks\":[]}},\"formatter\":{\"type\":\"object\",\"name\":\"BasicTickFormatter\",\"id\":\"p2347\"},\"axis_label\":\"source tokens\",\"major_label_orientation\":45,\"major_label_overrides\":{\"type\":\"map\",\"entries\":[[0.5,\"_BOS_\"],[1.5,\"\\u0430\\u043f\\u0430\\u0440\\u0442\\u0430\\u043c\\u0435\\u043d\\u0442\\u044b\"],[2.5,\"mo@@\"],[3.5,\"s@@\"],[4.5,\"co@@\"],[5.5,\"w\"],[6.5,\"point\"],[7.5,\"-\"],[8.5,\"loft\"],[9.5,\"red\"],[10.5,\"square\"],[11.5,\"\\u043d\\u0430\\u0445\\u043e\\u0434\\u044f\\u0442\\u0441\\u044f\"],[12.5,\"\\u0432\"],[13.5,\"\\u043c\\u043e\\u0441\\u043a\\u0432\\u0435\"],[14.5,\",\"],[15.5,\"\\u0432\"],[16.5,\"200\"],[17.5,\"\\u043c\\u0435\\u0442\\u0440\\u0430\\u0445\"],[18.5,\"\\u043e\\u0442\"],[19.5,\"\\u0431\\u043e\\u043b\\u044c\\u0448\\u043e\\u0433\\u043e\"],[20.5,\"\\u0442\\u0435\\u0430\\u0442\\u0440\\u0430\"],[21.5,\".\"],[22.5,\"_EOS_\"]]},\"major_label_policy\":{\"type\":\"object\",\"name\":\"AllLabels\",\"id\":\"p2348\"}}}]}}]}};\n",
              "  const render_items = [{\"docid\":\"f4ce651d-37d7-4b27-953a-2d66bccb3c85\",\"roots\":{\"p2317\":\"a7b373f5-f214-485c-926e-4da2c78edcc0\"},\"root_ids\":[\"p2317\"]}];\n",
              "  root.Bokeh.embed.embed_items_notebook(docs_json, render_items);\n",
              "  }\n",
              "  if (root.Bokeh !== undefined) {\n",
              "    embed_document(root);\n",
              "  } else {\n",
              "    let attempts = 0;\n",
              "    const timer = setInterval(function(root) {\n",
              "      if (root.Bokeh !== undefined) {\n",
              "        clearInterval(timer);\n",
              "        embed_document(root);\n",
              "      } else {\n",
              "        attempts++;\n",
              "        if (attempts > 100) {\n",
              "          clearInterval(timer);\n",
              "          console.log(\"Bokeh: ERROR: Unable to run BokehJS code because BokehJS library is missing\");\n",
              "        }\n",
              "      }\n",
              "    }, 10, root)\n",
              "  }\n",
              "})(window);"
            ],
            "application/vnd.bokehjs_exec.v0+json": ""
          },
          "metadata": {
            "application/vnd.bokehjs_exec.v0+json": {
              "id": "p2317"
            }
          }
        }
      ],
      "source": [
        "for i in range(5):\n",
        "    draw_attention(inp[i], trans[i], attention_probs[i])\n",
        "\n",
        "# Does it look fine already? don't forget to save images for anytask!"
      ]
    },
    {
      "cell_type": "markdown",
      "metadata": {
        "id": "0h2g14KeEjZE"
      },
      "source": [
        "__Note 1:__ If the attention maps are not iterpretable, try starting encoder from zeros (instead of dec_start), forcing model to use attention.\n",
        "\n",
        "__Note 2:__ If you're studying this course as a YSDA student, please submit __attention screenshots__ alongside your notebook."
      ]
    },
    {
      "cell_type": "markdown",
      "metadata": {
        "id": "pbIIngNVlrtt"
      },
      "source": [
        "## Goind deeper (2++ points each)\n",
        "\n",
        "We want you to find the best model for the task. Use everything you know.\n",
        "\n",
        "* different recurrent units: rnn/gru/lstm; deeper architectures\n",
        "* bidirectional encoder, different attention methods for decoder (additive, dot-product, multi-head)\n",
        "* word dropout, training schedules, anything you can imagine\n",
        "* replace greedy inference with beam search\n",
        "\n",
        "For a better grasp of seq2seq We recommend you to conduct at least one experiment from one of the bullet-points or your alternative ideas. As usual, describe what you tried and what results you obtained in a short report."
      ]
    },
    {
      "cell_type": "markdown",
      "metadata": {
        "collapsed": true,
        "id": "2rzAj_xtlrtt"
      },
      "source": [
        "`[your report/log here or anywhere you please]`"
      ]
    }
  ],
  "metadata": {
    "accelerator": "GPU",
    "colab": {
      "collapsed_sections": [
        "edk_oVg0lrtW"
      ],
      "provenance": []
    },
    "kernelspec": {
      "display_name": "Python 3",
      "language": "python",
      "name": "python3"
    },
    "language_info": {
      "codemirror_mode": {
        "name": "ipython",
        "version": 3
      },
      "file_extension": ".py",
      "mimetype": "text/x-python",
      "name": "python",
      "nbconvert_exporter": "python",
      "pygments_lexer": "ipython3",
      "version": "3.8.3"
    }
  },
  "nbformat": 4,
  "nbformat_minor": 0
}